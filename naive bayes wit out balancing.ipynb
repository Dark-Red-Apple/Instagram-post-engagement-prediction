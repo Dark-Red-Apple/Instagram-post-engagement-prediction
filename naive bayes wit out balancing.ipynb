{
 "cells": [
  {
   "cell_type": "code",
   "execution_count": 1,
   "id": "f3a9bdc1",
   "metadata": {
    "_cell_guid": "b1076dfc-b9ad-4769-8c92-a6c4dae69d19",
    "_uuid": "8f2839f25d086af736a60e9eeb907d3b93b6e0e5",
    "execution": {
     "iopub.execute_input": "2022-12-17T00:58:23.203610Z",
     "iopub.status.busy": "2022-12-17T00:58:23.202821Z",
     "iopub.status.idle": "2022-12-17T00:58:35.652151Z",
     "shell.execute_reply": "2022-12-17T00:58:35.650310Z"
    },
    "papermill": {
     "duration": 12.478762,
     "end_time": "2022-12-17T00:58:35.655036",
     "exception": false,
     "start_time": "2022-12-17T00:58:23.176274",
     "status": "completed"
    },
    "tags": []
   },
   "outputs": [
    {
     "name": "stdout",
     "output_type": "stream",
     "text": [
      "Collecting gdown\r\n",
      "  Downloading gdown-4.6.0-py3-none-any.whl (14 kB)\r\n",
      "Requirement already satisfied: filelock in /opt/conda/lib/python3.7/site-packages (from gdown) (3.7.1)\r\n",
      "Requirement already satisfied: tqdm in /opt/conda/lib/python3.7/site-packages (from gdown) (4.64.0)\r\n",
      "Requirement already satisfied: beautifulsoup4 in /opt/conda/lib/python3.7/site-packages (from gdown) (4.11.1)\r\n",
      "Requirement already satisfied: six in /opt/conda/lib/python3.7/site-packages (from gdown) (1.15.0)\r\n",
      "Requirement already satisfied: requests[socks] in /opt/conda/lib/python3.7/site-packages (from gdown) (2.28.1)\r\n",
      "Requirement already satisfied: soupsieve>1.2 in /opt/conda/lib/python3.7/site-packages (from beautifulsoup4->gdown) (2.3.1)\r\n",
      "Requirement already satisfied: certifi>=2017.4.17 in /opt/conda/lib/python3.7/site-packages (from requests[socks]->gdown) (2022.9.24)\r\n",
      "Requirement already satisfied: idna<4,>=2.5 in /opt/conda/lib/python3.7/site-packages (from requests[socks]->gdown) (3.3)\r\n",
      "Requirement already satisfied: charset-normalizer<3,>=2 in /opt/conda/lib/python3.7/site-packages (from requests[socks]->gdown) (2.1.0)\r\n",
      "Requirement already satisfied: urllib3<1.27,>=1.21.1 in /opt/conda/lib/python3.7/site-packages (from requests[socks]->gdown) (1.26.12)\r\n",
      "Requirement already satisfied: PySocks!=1.5.7,>=1.5.6 in /opt/conda/lib/python3.7/site-packages (from requests[socks]->gdown) (1.7.1)\r\n",
      "Installing collected packages: gdown\r\n",
      "Successfully installed gdown-4.6.0\r\n",
      "\u001b[33mWARNING: Running pip as the 'root' user can result in broken permissions and conflicting behaviour with the system package manager. It is recommended to use a virtual environment instead: https://pip.pypa.io/warnings/venv\u001b[0m\u001b[33m\r\n",
      "\u001b[0mNote: you may need to restart the kernel to use updated packages.\n"
     ]
    }
   ],
   "source": [
    "pip install gdown"
   ]
  },
  {
   "cell_type": "code",
   "execution_count": 2,
   "id": "45407dc3",
   "metadata": {
    "execution": {
     "iopub.execute_input": "2022-12-17T00:58:35.704551Z",
     "iopub.status.busy": "2022-12-17T00:58:35.704235Z",
     "iopub.status.idle": "2022-12-17T00:58:50.666728Z",
     "shell.execute_reply": "2022-12-17T00:58:50.664974Z"
    },
    "papermill": {
     "duration": 14.989628,
     "end_time": "2022-12-17T00:58:50.668954",
     "exception": false,
     "start_time": "2022-12-17T00:58:35.679326",
     "status": "completed"
    },
    "tags": []
   },
   "outputs": [
    {
     "name": "stdout",
     "output_type": "stream",
     "text": [
      "Collecting imojify\r\n",
      "  Downloading imojify-0.1.1-py3-none-any.whl (142.1 MB)\r\n",
      "\u001b[2K     \u001b[90m━━━━━━━━━━━━━━━━━━━━━━━━━━━━━━━━━━━━━━━\u001b[0m \u001b[32m142.1/142.1 MB\u001b[0m \u001b[31m8.4 MB/s\u001b[0m eta \u001b[36m0:00:00\u001b[0m\r\n",
      "\u001b[?25hRequirement already satisfied: numpy in /opt/conda/lib/python3.7/site-packages (from imojify) (1.21.6)\r\n",
      "Requirement already satisfied: Pillow in /opt/conda/lib/python3.7/site-packages (from imojify) (9.1.1)\r\n",
      "Requirement already satisfied: emoji in /opt/conda/lib/python3.7/site-packages (from imojify) (2.1.0)\r\n",
      "Installing collected packages: imojify\r\n",
      "Successfully installed imojify-0.1.1\r\n",
      "\u001b[33mWARNING: Running pip as the 'root' user can result in broken permissions and conflicting behaviour with the system package manager. It is recommended to use a virtual environment instead: https://pip.pypa.io/warnings/venv\u001b[0m\u001b[33m\r\n",
      "\u001b[0mNote: you may need to restart the kernel to use updated packages.\n"
     ]
    }
   ],
   "source": [
    "pip install imojify"
   ]
  },
  {
   "cell_type": "code",
   "execution_count": 3,
   "id": "f607866b",
   "metadata": {
    "execution": {
     "iopub.execute_input": "2022-12-17T00:58:50.721877Z",
     "iopub.status.busy": "2022-12-17T00:58:50.721552Z",
     "iopub.status.idle": "2022-12-17T00:59:02.680706Z",
     "shell.execute_reply": "2022-12-17T00:59:02.678727Z"
    },
    "papermill": {
     "duration": 11.988834,
     "end_time": "2022-12-17T00:59:02.683693",
     "exception": false,
     "start_time": "2022-12-17T00:58:50.694859",
     "status": "completed"
    },
    "tags": []
   },
   "outputs": [
    {
     "name": "stdout",
     "output_type": "stream",
     "text": [
      "Collecting langdetect\r\n",
      "  Downloading langdetect-1.0.9.tar.gz (981 kB)\r\n",
      "\u001b[2K     \u001b[90m━━━━━━━━━━━━━━━━━━━━━━━━━━━━━━━━━━━━━━━\u001b[0m \u001b[32m981.5/981.5 kB\u001b[0m \u001b[31m7.7 MB/s\u001b[0m eta \u001b[36m0:00:00\u001b[0m\r\n",
      "\u001b[?25h  Preparing metadata (setup.py) ... \u001b[?25l-\b \bdone\r\n",
      "\u001b[?25hRequirement already satisfied: six in /opt/conda/lib/python3.7/site-packages (from langdetect) (1.15.0)\r\n",
      "Building wheels for collected packages: langdetect\r\n",
      "  Building wheel for langdetect (setup.py) ... \u001b[?25l-\b \b\\\b \b|\b \b/\b \bdone\r\n",
      "\u001b[?25h  Created wheel for langdetect: filename=langdetect-1.0.9-py3-none-any.whl size=993242 sha256=8854ca69d79d51a65f26c7396127cc68a4b1e0936ee9beb656ea0fb039c922c7\r\n",
      "  Stored in directory: /root/.cache/pip/wheels/c5/96/8a/f90c59ed25d75e50a8c10a1b1c2d4c402e4dacfa87f3aff36a\r\n",
      "Successfully built langdetect\r\n",
      "Installing collected packages: langdetect\r\n",
      "Successfully installed langdetect-1.0.9\r\n",
      "\u001b[33mWARNING: Running pip as the 'root' user can result in broken permissions and conflicting behaviour with the system package manager. It is recommended to use a virtual environment instead: https://pip.pypa.io/warnings/venv\u001b[0m\u001b[33m\r\n",
      "\u001b[0mNote: you may need to restart the kernel to use updated packages.\n"
     ]
    }
   ],
   "source": [
    "pip install langdetect"
   ]
  },
  {
   "cell_type": "code",
   "execution_count": 4,
   "id": "09bd8051",
   "metadata": {
    "execution": {
     "iopub.execute_input": "2022-12-17T00:59:02.744028Z",
     "iopub.status.busy": "2022-12-17T00:59:02.743634Z",
     "iopub.status.idle": "2022-12-17T00:59:06.691597Z",
     "shell.execute_reply": "2022-12-17T00:59:06.689861Z"
    },
    "papermill": {
     "duration": 3.979659,
     "end_time": "2022-12-17T00:59:06.694093",
     "exception": false,
     "start_time": "2022-12-17T00:59:02.714434",
     "status": "completed"
    },
    "tags": []
   },
   "outputs": [
    {
     "name": "stderr",
     "output_type": "stream",
     "text": [
      "Downloading...\n",
      "From: https://drive.google.com/uc?id=18V3MiiM2aiM_nAZPi5eTom1B0PexbAou\n",
      "To: /kaggle/working/posts.csv\n",
      "100%|██████████| 44.8M/44.8M [00:00<00:00, 60.5MB/s]\n"
     ]
    },
    {
     "data": {
      "text/plain": [
       "'posts.csv'"
      ]
     },
     "execution_count": 4,
     "metadata": {},
     "output_type": "execute_result"
    }
   ],
   "source": [
    "import gdown\n",
    "import os\n",
    "\n",
    "# posts with engagement\n",
    "# url = 'https://drive.google.com/uc?id=1OGMa55QmLBLFiDGCE5bP32Hm3hIlZNGN'\n",
    "# posts with engagement\n",
    "url = 'https://drive.google.com/uc?id=18V3MiiM2aiM_nAZPi5eTom1B0PexbAou'\n",
    "\n",
    "# url = 'https://drive.google.com/uc?id=1fxYU6Xk7mTISk3ZhgD6coIzK9238uu3s'\n",
    "# url = 'https://drive.google.com/uc?id=1AbHlv2_bCnVAmmI6Dj0FOyZ-V7kP0m_V'\n",
    "\n",
    "# apple color\n",
    "\n",
    "# url = 'https://drive.google.com/uc?id=1Pc0ThySKuZZrSN-OgDnwM2cKpBaj94G_'\n",
    "output = 'posts.csv'\n",
    "# os.remove(\"/kaggle/working/posts.csv\")\n",
    "gdown.download(url, output, quiet=False)"
   ]
  },
  {
   "cell_type": "code",
   "execution_count": 5,
   "id": "83ebce2c",
   "metadata": {
    "execution": {
     "iopub.execute_input": "2022-12-17T00:59:06.749339Z",
     "iopub.status.busy": "2022-12-17T00:59:06.748996Z",
     "iopub.status.idle": "2022-12-17T00:59:06.840960Z",
     "shell.execute_reply": "2022-12-17T00:59:06.839343Z"
    },
    "papermill": {
     "duration": 0.121937,
     "end_time": "2022-12-17T00:59:06.843153",
     "exception": true,
     "start_time": "2022-12-17T00:59:06.721216",
     "status": "failed"
    },
    "tags": []
   },
   "outputs": [
    {
     "ename": "FileNotFoundError",
     "evalue": "[Errno 2] No such file or directory: 'posts_cleaned.csv'",
     "output_type": "error",
     "traceback": [
      "\u001b[0;31m---------------------------------------------------------------------------\u001b[0m",
      "\u001b[0;31mFileNotFoundError\u001b[0m                         Traceback (most recent call last)",
      "\u001b[0;32m/tmp/ipykernel_25/2123466592.py\u001b[0m in \u001b[0;36m<module>\u001b[0;34m\u001b[0m\n\u001b[1;32m      5\u001b[0m \u001b[0;32mimport\u001b[0m \u001b[0mnumpy\u001b[0m \u001b[0;32mas\u001b[0m \u001b[0mnp\u001b[0m\u001b[0;34m\u001b[0m\u001b[0;34m\u001b[0m\u001b[0m\n\u001b[1;32m      6\u001b[0m \u001b[0;34m\u001b[0m\u001b[0m\n\u001b[0;32m----> 7\u001b[0;31m \u001b[0mdf_posts\u001b[0m \u001b[0;34m=\u001b[0m \u001b[0mpd\u001b[0m\u001b[0;34m.\u001b[0m\u001b[0mread_csv\u001b[0m\u001b[0;34m(\u001b[0m\u001b[0;34m'posts_cleaned.csv'\u001b[0m\u001b[0;34m,\u001b[0m \u001b[0mlineterminator\u001b[0m \u001b[0;34m=\u001b[0m \u001b[0;34m\"\\n\"\u001b[0m\u001b[0;34m,\u001b[0m \u001b[0mparse_dates\u001b[0m\u001b[0;34m=\u001b[0m\u001b[0;34m[\u001b[0m\u001b[0;34m'taken_at_timestamp'\u001b[0m\u001b[0;34m]\u001b[0m\u001b[0;34m)\u001b[0m\u001b[0;34m\u001b[0m\u001b[0;34m\u001b[0m\u001b[0m\n\u001b[0m\u001b[1;32m      8\u001b[0m \u001b[0;31m# df_posts = pd.read_csv('posts.csv', lineterminator = \"\\n\", parse_dates=['taken_at_timestamp'])\u001b[0m\u001b[0;34m\u001b[0m\u001b[0;34m\u001b[0m\u001b[0;34m\u001b[0m\u001b[0m\n\u001b[1;32m      9\u001b[0m \u001b[0;31m# df_posts = df_posts.sample(frac = 0.20)\u001b[0m\u001b[0;34m\u001b[0m\u001b[0;34m\u001b[0m\u001b[0;34m\u001b[0m\u001b[0m\n",
      "\u001b[0;32m/opt/conda/lib/python3.7/site-packages/pandas/util/_decorators.py\u001b[0m in \u001b[0;36mwrapper\u001b[0;34m(*args, **kwargs)\u001b[0m\n\u001b[1;32m    309\u001b[0m                     \u001b[0mstacklevel\u001b[0m\u001b[0;34m=\u001b[0m\u001b[0mstacklevel\u001b[0m\u001b[0;34m,\u001b[0m\u001b[0;34m\u001b[0m\u001b[0;34m\u001b[0m\u001b[0m\n\u001b[1;32m    310\u001b[0m                 )\n\u001b[0;32m--> 311\u001b[0;31m             \u001b[0;32mreturn\u001b[0m \u001b[0mfunc\u001b[0m\u001b[0;34m(\u001b[0m\u001b[0;34m*\u001b[0m\u001b[0margs\u001b[0m\u001b[0;34m,\u001b[0m \u001b[0;34m**\u001b[0m\u001b[0mkwargs\u001b[0m\u001b[0;34m)\u001b[0m\u001b[0;34m\u001b[0m\u001b[0;34m\u001b[0m\u001b[0m\n\u001b[0m\u001b[1;32m    312\u001b[0m \u001b[0;34m\u001b[0m\u001b[0m\n\u001b[1;32m    313\u001b[0m         \u001b[0;32mreturn\u001b[0m \u001b[0mwrapper\u001b[0m\u001b[0;34m\u001b[0m\u001b[0;34m\u001b[0m\u001b[0m\n",
      "\u001b[0;32m/opt/conda/lib/python3.7/site-packages/pandas/io/parsers/readers.py\u001b[0m in \u001b[0;36mread_csv\u001b[0;34m(filepath_or_buffer, sep, delimiter, header, names, index_col, usecols, squeeze, prefix, mangle_dupe_cols, dtype, engine, converters, true_values, false_values, skipinitialspace, skiprows, skipfooter, nrows, na_values, keep_default_na, na_filter, verbose, skip_blank_lines, parse_dates, infer_datetime_format, keep_date_col, date_parser, dayfirst, cache_dates, iterator, chunksize, compression, thousands, decimal, lineterminator, quotechar, quoting, doublequote, escapechar, comment, encoding, encoding_errors, dialect, error_bad_lines, warn_bad_lines, on_bad_lines, delim_whitespace, low_memory, memory_map, float_precision, storage_options)\u001b[0m\n\u001b[1;32m    584\u001b[0m     \u001b[0mkwds\u001b[0m\u001b[0;34m.\u001b[0m\u001b[0mupdate\u001b[0m\u001b[0;34m(\u001b[0m\u001b[0mkwds_defaults\u001b[0m\u001b[0;34m)\u001b[0m\u001b[0;34m\u001b[0m\u001b[0;34m\u001b[0m\u001b[0m\n\u001b[1;32m    585\u001b[0m \u001b[0;34m\u001b[0m\u001b[0m\n\u001b[0;32m--> 586\u001b[0;31m     \u001b[0;32mreturn\u001b[0m \u001b[0m_read\u001b[0m\u001b[0;34m(\u001b[0m\u001b[0mfilepath_or_buffer\u001b[0m\u001b[0;34m,\u001b[0m \u001b[0mkwds\u001b[0m\u001b[0;34m)\u001b[0m\u001b[0;34m\u001b[0m\u001b[0;34m\u001b[0m\u001b[0m\n\u001b[0m\u001b[1;32m    587\u001b[0m \u001b[0;34m\u001b[0m\u001b[0m\n\u001b[1;32m    588\u001b[0m \u001b[0;34m\u001b[0m\u001b[0m\n",
      "\u001b[0;32m/opt/conda/lib/python3.7/site-packages/pandas/io/parsers/readers.py\u001b[0m in \u001b[0;36m_read\u001b[0;34m(filepath_or_buffer, kwds)\u001b[0m\n\u001b[1;32m    480\u001b[0m \u001b[0;34m\u001b[0m\u001b[0m\n\u001b[1;32m    481\u001b[0m     \u001b[0;31m# Create the parser.\u001b[0m\u001b[0;34m\u001b[0m\u001b[0;34m\u001b[0m\u001b[0;34m\u001b[0m\u001b[0m\n\u001b[0;32m--> 482\u001b[0;31m     \u001b[0mparser\u001b[0m \u001b[0;34m=\u001b[0m \u001b[0mTextFileReader\u001b[0m\u001b[0;34m(\u001b[0m\u001b[0mfilepath_or_buffer\u001b[0m\u001b[0;34m,\u001b[0m \u001b[0;34m**\u001b[0m\u001b[0mkwds\u001b[0m\u001b[0;34m)\u001b[0m\u001b[0;34m\u001b[0m\u001b[0;34m\u001b[0m\u001b[0m\n\u001b[0m\u001b[1;32m    483\u001b[0m \u001b[0;34m\u001b[0m\u001b[0m\n\u001b[1;32m    484\u001b[0m     \u001b[0;32mif\u001b[0m \u001b[0mchunksize\u001b[0m \u001b[0;32mor\u001b[0m \u001b[0miterator\u001b[0m\u001b[0;34m:\u001b[0m\u001b[0;34m\u001b[0m\u001b[0;34m\u001b[0m\u001b[0m\n",
      "\u001b[0;32m/opt/conda/lib/python3.7/site-packages/pandas/io/parsers/readers.py\u001b[0m in \u001b[0;36m__init__\u001b[0;34m(self, f, engine, **kwds)\u001b[0m\n\u001b[1;32m    809\u001b[0m             \u001b[0mself\u001b[0m\u001b[0;34m.\u001b[0m\u001b[0moptions\u001b[0m\u001b[0;34m[\u001b[0m\u001b[0;34m\"has_index_names\"\u001b[0m\u001b[0;34m]\u001b[0m \u001b[0;34m=\u001b[0m \u001b[0mkwds\u001b[0m\u001b[0;34m[\u001b[0m\u001b[0;34m\"has_index_names\"\u001b[0m\u001b[0;34m]\u001b[0m\u001b[0;34m\u001b[0m\u001b[0;34m\u001b[0m\u001b[0m\n\u001b[1;32m    810\u001b[0m \u001b[0;34m\u001b[0m\u001b[0m\n\u001b[0;32m--> 811\u001b[0;31m         \u001b[0mself\u001b[0m\u001b[0;34m.\u001b[0m\u001b[0m_engine\u001b[0m \u001b[0;34m=\u001b[0m \u001b[0mself\u001b[0m\u001b[0;34m.\u001b[0m\u001b[0m_make_engine\u001b[0m\u001b[0;34m(\u001b[0m\u001b[0mself\u001b[0m\u001b[0;34m.\u001b[0m\u001b[0mengine\u001b[0m\u001b[0;34m)\u001b[0m\u001b[0;34m\u001b[0m\u001b[0;34m\u001b[0m\u001b[0m\n\u001b[0m\u001b[1;32m    812\u001b[0m \u001b[0;34m\u001b[0m\u001b[0m\n\u001b[1;32m    813\u001b[0m     \u001b[0;32mdef\u001b[0m \u001b[0mclose\u001b[0m\u001b[0;34m(\u001b[0m\u001b[0mself\u001b[0m\u001b[0;34m)\u001b[0m\u001b[0;34m:\u001b[0m\u001b[0;34m\u001b[0m\u001b[0;34m\u001b[0m\u001b[0m\n",
      "\u001b[0;32m/opt/conda/lib/python3.7/site-packages/pandas/io/parsers/readers.py\u001b[0m in \u001b[0;36m_make_engine\u001b[0;34m(self, engine)\u001b[0m\n\u001b[1;32m   1038\u001b[0m             )\n\u001b[1;32m   1039\u001b[0m         \u001b[0;31m# error: Too many arguments for \"ParserBase\"\u001b[0m\u001b[0;34m\u001b[0m\u001b[0;34m\u001b[0m\u001b[0;34m\u001b[0m\u001b[0m\n\u001b[0;32m-> 1040\u001b[0;31m         \u001b[0;32mreturn\u001b[0m \u001b[0mmapping\u001b[0m\u001b[0;34m[\u001b[0m\u001b[0mengine\u001b[0m\u001b[0;34m]\u001b[0m\u001b[0;34m(\u001b[0m\u001b[0mself\u001b[0m\u001b[0;34m.\u001b[0m\u001b[0mf\u001b[0m\u001b[0;34m,\u001b[0m \u001b[0;34m**\u001b[0m\u001b[0mself\u001b[0m\u001b[0;34m.\u001b[0m\u001b[0moptions\u001b[0m\u001b[0;34m)\u001b[0m  \u001b[0;31m# type: ignore[call-arg]\u001b[0m\u001b[0;34m\u001b[0m\u001b[0;34m\u001b[0m\u001b[0m\n\u001b[0m\u001b[1;32m   1041\u001b[0m \u001b[0;34m\u001b[0m\u001b[0m\n\u001b[1;32m   1042\u001b[0m     \u001b[0;32mdef\u001b[0m \u001b[0m_failover_to_python\u001b[0m\u001b[0;34m(\u001b[0m\u001b[0mself\u001b[0m\u001b[0;34m)\u001b[0m\u001b[0;34m:\u001b[0m\u001b[0;34m\u001b[0m\u001b[0;34m\u001b[0m\u001b[0m\n",
      "\u001b[0;32m/opt/conda/lib/python3.7/site-packages/pandas/io/parsers/c_parser_wrapper.py\u001b[0m in \u001b[0;36m__init__\u001b[0;34m(self, src, **kwds)\u001b[0m\n\u001b[1;32m     49\u001b[0m \u001b[0;34m\u001b[0m\u001b[0m\n\u001b[1;32m     50\u001b[0m         \u001b[0;31m# open handles\u001b[0m\u001b[0;34m\u001b[0m\u001b[0;34m\u001b[0m\u001b[0;34m\u001b[0m\u001b[0m\n\u001b[0;32m---> 51\u001b[0;31m         \u001b[0mself\u001b[0m\u001b[0;34m.\u001b[0m\u001b[0m_open_handles\u001b[0m\u001b[0;34m(\u001b[0m\u001b[0msrc\u001b[0m\u001b[0;34m,\u001b[0m \u001b[0mkwds\u001b[0m\u001b[0;34m)\u001b[0m\u001b[0;34m\u001b[0m\u001b[0;34m\u001b[0m\u001b[0m\n\u001b[0m\u001b[1;32m     52\u001b[0m         \u001b[0;32massert\u001b[0m \u001b[0mself\u001b[0m\u001b[0;34m.\u001b[0m\u001b[0mhandles\u001b[0m \u001b[0;32mis\u001b[0m \u001b[0;32mnot\u001b[0m \u001b[0;32mNone\u001b[0m\u001b[0;34m\u001b[0m\u001b[0;34m\u001b[0m\u001b[0m\n\u001b[1;32m     53\u001b[0m \u001b[0;34m\u001b[0m\u001b[0m\n",
      "\u001b[0;32m/opt/conda/lib/python3.7/site-packages/pandas/io/parsers/base_parser.py\u001b[0m in \u001b[0;36m_open_handles\u001b[0;34m(self, src, kwds)\u001b[0m\n\u001b[1;32m    227\u001b[0m             \u001b[0mmemory_map\u001b[0m\u001b[0;34m=\u001b[0m\u001b[0mkwds\u001b[0m\u001b[0;34m.\u001b[0m\u001b[0mget\u001b[0m\u001b[0;34m(\u001b[0m\u001b[0;34m\"memory_map\"\u001b[0m\u001b[0;34m,\u001b[0m \u001b[0;32mFalse\u001b[0m\u001b[0;34m)\u001b[0m\u001b[0;34m,\u001b[0m\u001b[0;34m\u001b[0m\u001b[0;34m\u001b[0m\u001b[0m\n\u001b[1;32m    228\u001b[0m             \u001b[0mstorage_options\u001b[0m\u001b[0;34m=\u001b[0m\u001b[0mkwds\u001b[0m\u001b[0;34m.\u001b[0m\u001b[0mget\u001b[0m\u001b[0;34m(\u001b[0m\u001b[0;34m\"storage_options\"\u001b[0m\u001b[0;34m,\u001b[0m \u001b[0;32mNone\u001b[0m\u001b[0;34m)\u001b[0m\u001b[0;34m,\u001b[0m\u001b[0;34m\u001b[0m\u001b[0;34m\u001b[0m\u001b[0m\n\u001b[0;32m--> 229\u001b[0;31m             \u001b[0merrors\u001b[0m\u001b[0;34m=\u001b[0m\u001b[0mkwds\u001b[0m\u001b[0;34m.\u001b[0m\u001b[0mget\u001b[0m\u001b[0;34m(\u001b[0m\u001b[0;34m\"encoding_errors\"\u001b[0m\u001b[0;34m,\u001b[0m \u001b[0;34m\"strict\"\u001b[0m\u001b[0;34m)\u001b[0m\u001b[0;34m,\u001b[0m\u001b[0;34m\u001b[0m\u001b[0;34m\u001b[0m\u001b[0m\n\u001b[0m\u001b[1;32m    230\u001b[0m         )\n\u001b[1;32m    231\u001b[0m \u001b[0;34m\u001b[0m\u001b[0m\n",
      "\u001b[0;32m/opt/conda/lib/python3.7/site-packages/pandas/io/common.py\u001b[0m in \u001b[0;36mget_handle\u001b[0;34m(path_or_buf, mode, encoding, compression, memory_map, is_text, errors, storage_options)\u001b[0m\n\u001b[1;32m    705\u001b[0m                 \u001b[0mencoding\u001b[0m\u001b[0;34m=\u001b[0m\u001b[0mioargs\u001b[0m\u001b[0;34m.\u001b[0m\u001b[0mencoding\u001b[0m\u001b[0;34m,\u001b[0m\u001b[0;34m\u001b[0m\u001b[0;34m\u001b[0m\u001b[0m\n\u001b[1;32m    706\u001b[0m                 \u001b[0merrors\u001b[0m\u001b[0;34m=\u001b[0m\u001b[0merrors\u001b[0m\u001b[0;34m,\u001b[0m\u001b[0;34m\u001b[0m\u001b[0;34m\u001b[0m\u001b[0m\n\u001b[0;32m--> 707\u001b[0;31m                 \u001b[0mnewline\u001b[0m\u001b[0;34m=\u001b[0m\u001b[0;34m\"\"\u001b[0m\u001b[0;34m,\u001b[0m\u001b[0;34m\u001b[0m\u001b[0;34m\u001b[0m\u001b[0m\n\u001b[0m\u001b[1;32m    708\u001b[0m             )\n\u001b[1;32m    709\u001b[0m         \u001b[0;32melse\u001b[0m\u001b[0;34m:\u001b[0m\u001b[0;34m\u001b[0m\u001b[0;34m\u001b[0m\u001b[0m\n",
      "\u001b[0;31mFileNotFoundError\u001b[0m: [Errno 2] No such file or directory: 'posts_cleaned.csv'"
     ]
    }
   ],
   "source": [
    "import sys\n",
    "import json\n",
    "import pandas as pd\n",
    "import random\n",
    "import numpy as np\n",
    "\n",
    "df_posts = pd.read_csv('posts_cleaned.csv', lineterminator = \"\\n\", parse_dates=['taken_at_timestamp'])\n",
    "# df_posts = pd.read_csv('posts.csv', lineterminator = \"\\n\", parse_dates=['taken_at_timestamp'])\n",
    "# df_posts = df_posts.sample(frac = 0.20)"
   ]
  },
  {
   "cell_type": "code",
   "execution_count": null,
   "id": "16038eeb",
   "metadata": {
    "execution": {
     "iopub.execute_input": "2022-12-17T00:43:37.597852Z",
     "iopub.status.busy": "2022-12-17T00:43:37.597036Z",
     "iopub.status.idle": "2022-12-17T00:43:37.605104Z",
     "shell.execute_reply": "2022-12-17T00:43:37.603953Z",
     "shell.execute_reply.started": "2022-12-17T00:43:37.597805Z"
    },
    "papermill": {
     "duration": null,
     "end_time": null,
     "exception": null,
     "start_time": null,
     "status": "pending"
    },
    "tags": []
   },
   "outputs": [],
   "source": [
    "lst = []\n",
    "def categorize(eng_rate):\n",
    "    label = ''\n",
    "    if 0 <= eng_rate < 0.001:\n",
    "        label = 'bad'\n",
    "    if 0.001 <= eng_rate < 0.01:\n",
    "        label = 'average'\n",
    "    if 0.01 <= eng_rate < 0.03:\n",
    "        label = 'good'\n",
    "    if 0.03 <= eng_rate < 1:\n",
    "        label = 'great'\n",
    "    if eng_rate >= 1:\n",
    "        label = 'amazing'\n",
    "    \n",
    "    return label\n"
   ]
  },
  {
   "cell_type": "code",
   "execution_count": null,
   "id": "6ed83c53",
   "metadata": {
    "execution": {
     "iopub.execute_input": "2022-12-17T00:43:40.658556Z",
     "iopub.status.busy": "2022-12-17T00:43:40.658173Z",
     "iopub.status.idle": "2022-12-17T00:43:40.695917Z",
     "shell.execute_reply": "2022-12-17T00:43:40.694888Z",
     "shell.execute_reply.started": "2022-12-17T00:43:40.658523Z"
    },
    "papermill": {
     "duration": null,
     "end_time": null,
     "exception": null,
     "start_time": null,
     "status": "pending"
    },
    "tags": []
   },
   "outputs": [],
   "source": [
    "df_posts['class_col']  = df_posts['engagement_rate'].apply(lambda x: categorize(x))"
   ]
  },
  {
   "cell_type": "code",
   "execution_count": null,
   "id": "6c918694",
   "metadata": {
    "execution": {
     "iopub.execute_input": "2022-12-17T00:48:01.427072Z",
     "iopub.status.busy": "2022-12-17T00:48:01.426671Z",
     "iopub.status.idle": "2022-12-17T00:48:01.437704Z",
     "shell.execute_reply": "2022-12-17T00:48:01.436525Z",
     "shell.execute_reply.started": "2022-12-17T00:48:01.427040Z"
    },
    "papermill": {
     "duration": null,
     "end_time": null,
     "exception": null,
     "start_time": null,
     "status": "pending"
    },
    "tags": []
   },
   "outputs": [],
   "source": [
    "df_posts['class_col'].unique()"
   ]
  },
  {
   "cell_type": "code",
   "execution_count": null,
   "id": "ce8df2a9",
   "metadata": {
    "execution": {
     "iopub.execute_input": "2022-12-17T00:47:53.252055Z",
     "iopub.status.busy": "2022-12-17T00:47:53.251694Z",
     "iopub.status.idle": "2022-12-17T00:47:53.282852Z",
     "shell.execute_reply": "2022-12-17T00:47:53.281841Z",
     "shell.execute_reply.started": "2022-12-17T00:47:53.252027Z"
    },
    "papermill": {
     "duration": null,
     "end_time": null,
     "exception": null,
     "start_time": null,
     "status": "pending"
    },
    "tags": []
   },
   "outputs": [],
   "source": [
    "df_posts = df_posts[df_posts['class_col'] != 'amazing']"
   ]
  },
  {
   "cell_type": "code",
   "execution_count": null,
   "id": "1cab3e13",
   "metadata": {
    "execution": {
     "iopub.execute_input": "2022-12-17T00:51:57.081579Z",
     "iopub.status.busy": "2022-12-17T00:51:57.081021Z",
     "iopub.status.idle": "2022-12-17T00:51:57.098970Z",
     "shell.execute_reply": "2022-12-17T00:51:57.097953Z",
     "shell.execute_reply.started": "2022-12-17T00:51:57.081547Z"
    },
    "papermill": {
     "duration": null,
     "end_time": null,
     "exception": null,
     "start_time": null,
     "status": "pending"
    },
    "tags": []
   },
   "outputs": [],
   "source": [
    "df_posts.groupby('class_col').size()"
   ]
  },
  {
   "cell_type": "code",
   "execution_count": null,
   "id": "16fa329f",
   "metadata": {
    "execution": {
     "iopub.execute_input": "2022-12-17T00:40:39.790422Z",
     "iopub.status.busy": "2022-12-17T00:40:39.790021Z",
     "iopub.status.idle": "2022-12-17T00:40:39.799482Z",
     "shell.execute_reply": "2022-12-17T00:40:39.798313Z",
     "shell.execute_reply.started": "2022-12-17T00:40:39.790388Z"
    },
    "papermill": {
     "duration": null,
     "end_time": null,
     "exception": null,
     "start_time": null,
     "status": "pending"
    },
    "tags": []
   },
   "outputs": [],
   "source": [
    "df_posts['engagement_rate']"
   ]
  },
  {
   "cell_type": "code",
   "execution_count": null,
   "id": "afb2f3f3",
   "metadata": {
    "execution": {
     "iopub.execute_input": "2022-12-17T00:42:47.890092Z",
     "iopub.status.busy": "2022-12-17T00:42:47.888988Z",
     "iopub.status.idle": "2022-12-17T00:42:47.915766Z",
     "shell.execute_reply": "2022-12-17T00:42:47.914385Z",
     "shell.execute_reply.started": "2022-12-17T00:42:47.890041Z"
    },
    "papermill": {
     "duration": null,
     "end_time": null,
     "exception": null,
     "start_time": null,
     "status": "pending"
    },
    "tags": []
   },
   "outputs": [],
   "source": [
    "df_posts[df_posts['class_col'] == '']['engagement_rate']"
   ]
  },
  {
   "cell_type": "code",
   "execution_count": null,
   "id": "de9aec30",
   "metadata": {
    "execution": {
     "iopub.execute_input": "2022-12-16T23:35:22.103030Z",
     "iopub.status.busy": "2022-12-16T23:35:22.102539Z",
     "iopub.status.idle": "2022-12-16T23:35:22.120163Z",
     "shell.execute_reply": "2022-12-16T23:35:22.119163Z",
     "shell.execute_reply.started": "2022-12-16T23:35:22.102980Z"
    },
    "papermill": {
     "duration": null,
     "end_time": null,
     "exception": null,
     "start_time": null,
     "status": "pending"
    },
    "tags": []
   },
   "outputs": [],
   "source": [
    "df_posts['class_col']  = pd.Categorical(df_posts['class_col'] )\n",
    "df_posts['class_col'] = df_posts['class_col'].cat.codes"
   ]
  },
  {
   "cell_type": "code",
   "execution_count": null,
   "id": "41186712",
   "metadata": {
    "execution": {
     "iopub.execute_input": "2022-12-17T00:26:56.595252Z",
     "iopub.status.busy": "2022-12-17T00:26:56.594854Z",
     "iopub.status.idle": "2022-12-17T00:26:56.605299Z",
     "shell.execute_reply": "2022-12-17T00:26:56.604126Z",
     "shell.execute_reply.started": "2022-12-17T00:26:56.595222Z"
    },
    "papermill": {
     "duration": null,
     "end_time": null,
     "exception": null,
     "start_time": null,
     "status": "pending"
    },
    "tags": []
   },
   "outputs": [],
   "source": [
    "df_posts['class_col']"
   ]
  },
  {
   "cell_type": "code",
   "execution_count": null,
   "id": "c10740d3",
   "metadata": {
    "execution": {
     "iopub.execute_input": "2022-12-16T17:53:12.901921Z",
     "iopub.status.busy": "2022-12-16T17:53:12.901234Z",
     "iopub.status.idle": "2022-12-16T17:53:12.908136Z",
     "shell.execute_reply": "2022-12-16T17:53:12.906952Z",
     "shell.execute_reply.started": "2022-12-16T17:53:12.901889Z"
    },
    "papermill": {
     "duration": null,
     "end_time": null,
     "exception": null,
     "start_time": null,
     "status": "pending"
    },
    "tags": []
   },
   "outputs": [],
   "source": [
    "print(df_posts.columns)\n",
    "print(df_posts.shape)"
   ]
  },
  {
   "cell_type": "code",
   "execution_count": null,
   "id": "5e8c649c",
   "metadata": {
    "papermill": {
     "duration": null,
     "end_time": null,
     "exception": null,
     "start_time": null,
     "status": "pending"
    },
    "tags": []
   },
   "outputs": [],
   "source": [
    "pip install emoji==1.6.3"
   ]
  },
  {
   "cell_type": "code",
   "execution_count": null,
   "id": "02e6b191",
   "metadata": {
    "execution": {
     "iopub.execute_input": "2022-12-15T22:13:26.462393Z",
     "iopub.status.busy": "2022-12-15T22:13:26.461976Z",
     "iopub.status.idle": "2022-12-15T22:13:26.469081Z",
     "shell.execute_reply": "2022-12-15T22:13:26.467776Z",
     "shell.execute_reply.started": "2022-12-15T22:13:26.462355Z"
    },
    "papermill": {
     "duration": null,
     "end_time": null,
     "exception": null,
     "start_time": null,
     "status": "pending"
    },
    "tags": []
   },
   "outputs": [],
   "source": [
    "import emoji\n",
    "\n",
    "def extract_emojis(s):\n",
    "    s = str(s)\n",
    "    return emoji.distinct_emoji_list(s)\n",
    "\n",
    "#     return ''.join(c for c in s if c in emoji.UNICODE_EMOJI['en'])"
   ]
  },
  {
   "cell_type": "code",
   "execution_count": null,
   "id": "fccc541d",
   "metadata": {
    "execution": {
     "iopub.execute_input": "2022-12-15T17:58:16.404888Z",
     "iopub.status.busy": "2022-12-15T17:58:16.403752Z",
     "iopub.status.idle": "2022-12-15T17:58:23.495822Z",
     "shell.execute_reply": "2022-12-15T17:58:23.493863Z",
     "shell.execute_reply.started": "2022-12-15T17:58:16.404836Z"
    },
    "papermill": {
     "duration": null,
     "end_time": null,
     "exception": null,
     "start_time": null,
     "status": "pending"
    },
    "tags": []
   },
   "outputs": [],
   "source": [
    "df_posts['emojis'] = df_posts['caption_text'].apply(lambda x: extract_emojis(x))    "
   ]
  },
  {
   "cell_type": "code",
   "execution_count": null,
   "id": "3285baec",
   "metadata": {
    "execution": {
     "iopub.execute_input": "2022-12-15T18:01:23.175908Z",
     "iopub.status.busy": "2022-12-15T18:01:23.175538Z",
     "iopub.status.idle": "2022-12-15T18:01:23.185444Z",
     "shell.execute_reply": "2022-12-15T18:01:23.184414Z",
     "shell.execute_reply.started": "2022-12-15T18:01:23.175876Z"
    },
    "papermill": {
     "duration": null,
     "end_time": null,
     "exception": null,
     "start_time": null,
     "status": "pending"
    },
    "tags": []
   },
   "outputs": [],
   "source": [
    "df_posts['emojis']"
   ]
  },
  {
   "cell_type": "code",
   "execution_count": null,
   "id": "7ef2fddd",
   "metadata": {
    "execution": {
     "iopub.execute_input": "2022-12-15T18:13:40.052073Z",
     "iopub.status.busy": "2022-12-15T18:13:40.051642Z",
     "iopub.status.idle": "2022-12-15T18:13:40.058648Z",
     "shell.execute_reply": "2022-12-15T18:13:40.057790Z",
     "shell.execute_reply.started": "2022-12-15T18:13:40.052040Z"
    },
    "papermill": {
     "duration": null,
     "end_time": null,
     "exception": null,
     "start_time": null,
     "status": "pending"
    },
    "tags": []
   },
   "outputs": [],
   "source": [
    "type(df_posts['emojis'][0])"
   ]
  },
  {
   "cell_type": "code",
   "execution_count": null,
   "id": "d6dc1ef7",
   "metadata": {
    "execution": {
     "iopub.execute_input": "2022-12-15T18:01:25.459711Z",
     "iopub.status.busy": "2022-12-15T18:01:25.459118Z",
     "iopub.status.idle": "2022-12-15T18:01:25.488877Z",
     "shell.execute_reply": "2022-12-15T18:01:25.487503Z",
     "shell.execute_reply.started": "2022-12-15T18:01:25.459673Z"
    },
    "papermill": {
     "duration": null,
     "end_time": null,
     "exception": null,
     "start_time": null,
     "status": "pending"
    },
    "tags": []
   },
   "outputs": [],
   "source": [
    "from itertools import chain\n",
    "from collections import Counter\n",
    "\n",
    "emoji_freq = pd.Series(Counter(chain.from_iterable(x for x in df_posts['emojis'])))"
   ]
  },
  {
   "cell_type": "code",
   "execution_count": null,
   "id": "cba1873e",
   "metadata": {
    "execution": {
     "iopub.execute_input": "2022-12-15T18:01:34.028098Z",
     "iopub.status.busy": "2022-12-15T18:01:34.027688Z",
     "iopub.status.idle": "2022-12-15T18:01:34.053103Z",
     "shell.execute_reply": "2022-12-15T18:01:34.051748Z",
     "shell.execute_reply.started": "2022-12-15T18:01:34.028067Z"
    },
    "papermill": {
     "duration": null,
     "end_time": null,
     "exception": null,
     "start_time": null,
     "status": "pending"
    },
    "tags": []
   },
   "outputs": [],
   "source": [
    "print(emoji_freq.sort_values(ascending = False))\n",
    "emoji_freq = emoji_freq.sort_values(ascending = False)\n",
    "emoji_freq = emoji_freq.reset_index(level=0)\n",
    "emoji_freq = emoji_freq.astype({\"index\": str})\n",
    "emoji_freq.head(30)"
   ]
  },
  {
   "cell_type": "code",
   "execution_count": null,
   "id": "f8ce5852",
   "metadata": {
    "papermill": {
     "duration": null,
     "end_time": null,
     "exception": null,
     "start_time": null,
     "status": "pending"
    },
    "tags": []
   },
   "outputs": [],
   "source": [
    "import pandas as pd\n",
    "import matplotlib\n",
    "from matplotlib import pyplot as plt\n",
    "import matplotlib.font_manager as fm\n",
    "from matplotlib import ft2font\n",
    "from matplotlib.font_manager import ttfFontProperty\n",
    "\n",
    "\n",
    "import matplotlib.pyplot as pyplot\n",
    "from matplotlib.font_manager import FontProperties\n",
    "\n",
    "fpath = '/kaggle/working/font.ttf'\n",
    "fprop = fm.FontProperties(fname=fpath)\n",
    "\n",
    "font = ft2font.FT2Font(fpath)\n",
    "fprop = fm.FontProperties(fname=fpath)\n",
    "\n",
    "ttfFontProp = ttfFontProperty(font)\n",
    "\n",
    "\n",
    "fontprop = fm.FontProperties(family='sans-serif',\n",
    "                            fname=ttfFontProp.fname,\n",
    "                            size=20,\n",
    "                            stretch=ttfFontProp.stretch,\n",
    "                            style=ttfFontProp.style,\n",
    "                            variant=ttfFontProp.variant,\n",
    "                            weight=ttfFontProp.weight)\n",
    "\n",
    "labels = emoji_freq['index'].head(30)\n",
    "# fig = matplotlib.pyplot.gcf()\n",
    "\n",
    "# print(labels)\n",
    "\n",
    "fig, ax = plt.subplots()\n",
    "fig.set_size_inches(18.5, 10.5)\n",
    "\n",
    "# df = pd.DataFrame({'numbers': [2, 4, 1, 4, 3, 2, 1, 3, 2, 4]})\n",
    "emoji_freq.head(30).plot(ax=ax, kind='bar', xlabel= 'emojis' , ylabel='frequency')\n",
    "\n",
    "# plt.xticks(labels)\n",
    "# ax.set_xticks(labels)\n",
    "ax.set_xticklabels(labels, rotation=45, fontproperties=fprop)\n",
    "\n",
    "ax.tick_params(axis='both', which='major', labelsize=20)\n",
    "ax.tick_params(axis='both', which='minor', labelsize=20)\n",
    "# t = ax.text(.5, .25, labels, fontname='/kaggle/working/font.ttf', fontsize=30, ha='center')\n",
    "# fig.savefig('test2png.png', dpi=100)\n",
    "\n",
    "plt.show()"
   ]
  },
  {
   "cell_type": "code",
   "execution_count": null,
   "id": "545c8512",
   "metadata": {
    "execution": {
     "iopub.execute_input": "2022-12-14T01:14:14.158061Z",
     "iopub.status.busy": "2022-12-14T01:14:14.157656Z",
     "iopub.status.idle": "2022-12-14T01:14:15.834601Z",
     "shell.execute_reply": "2022-12-14T01:14:15.833747Z",
     "shell.execute_reply.started": "2022-12-14T01:14:14.158026Z"
    },
    "papermill": {
     "duration": null,
     "end_time": null,
     "exception": null,
     "start_time": null,
     "status": "pending"
    },
    "tags": []
   },
   "outputs": [],
   "source": [
    "from imojify import imojify\n",
    "from matplotlib import pyplot as plt \n",
    "from matplotlib.offsetbox import OffsetImage,AnnotationBbox\n",
    "def offset_image(cords, emoji, ax):\n",
    "    img = plt.imread(imojify.get_img_path(emoji))\n",
    "    im = OffsetImage(img, zoom=0.08)\n",
    "    im.image.axes = ax\n",
    "    ab = AnnotationBbox(im, (cords[0], cords[1]),  frameon=False, pad=0)\n",
    "    ax.add_artist(ab)\n",
    "\n",
    "\n",
    "\n",
    "emjis = labels = emoji_freq['index'].head(30)\n",
    "values = emoji_freq[0].head(30)\n",
    "\n",
    "fig, ax = plt.subplots(figsize=(12,8))\n",
    "fig.set_size_inches(18.5, 10.5)\n",
    "ax.bar(range(len(emjis)), values, width=0.5,align=\"center\", color=\"pink\")\n",
    "ax.set_xticks(range(len(emjis)))\n",
    "ax.set_xticklabels([])\n",
    "ax.tick_params(axis='x', which='major', pad=26)\n",
    "ax.set_ylim((0, ax.get_ylim()[1]+10))\n",
    "\n",
    "for i, e in enumerate(emjis):\n",
    "    offset_image([i,values[i]+5], e, ax)\n",
    "    \n",
    "plt.savefig('emojis_usage.png')"
   ]
  },
  {
   "cell_type": "code",
   "execution_count": null,
   "id": "b53b9c5d",
   "metadata": {
    "execution": {
     "iopub.execute_input": "2022-12-14T01:15:17.105677Z",
     "iopub.status.busy": "2022-12-14T01:15:17.104295Z",
     "iopub.status.idle": "2022-12-14T01:15:17.956716Z",
     "shell.execute_reply": "2022-12-14T01:15:17.955442Z",
     "shell.execute_reply.started": "2022-12-14T01:15:17.105621Z"
    },
    "papermill": {
     "duration": null,
     "end_time": null,
     "exception": null,
     "start_time": null,
     "status": "pending"
    },
    "tags": []
   },
   "outputs": [],
   "source": [
    "#  df_cd.groupby(['user_name'])['edge_media_preview_like.count']\n",
    "df_eng = df_posts[['category', 'engagement_rate' ]]\n",
    "bp = df_eng.boxplot(by='category')"
   ]
  },
  {
   "cell_type": "code",
   "execution_count": null,
   "id": "b64cf4fc",
   "metadata": {
    "execution": {
     "iopub.execute_input": "2022-12-14T01:19:52.788500Z",
     "iopub.status.busy": "2022-12-14T01:19:52.788074Z",
     "iopub.status.idle": "2022-12-14T01:19:54.001561Z",
     "shell.execute_reply": "2022-12-14T01:19:54.000296Z",
     "shell.execute_reply.started": "2022-12-14T01:19:52.788468Z"
    },
    "papermill": {
     "duration": null,
     "end_time": null,
     "exception": null,
     "start_time": null,
     "status": "pending"
    },
    "tags": []
   },
   "outputs": [],
   "source": [
    "import seaborn as sns\n",
    "sns.set(rc={'figure.figsize':(20,19)})\n",
    "sns.set(font_scale = 2)\n",
    "\n",
    "fig, ax = plt.subplots()\n",
    "sns.boxplot(\n",
    "    data=df_eng, x=\"engagement_rate\", y=\"category\",\n",
    "    notch=True, showcaps=False,\n",
    "#     flierprops={\"marker\": \"o\"},\n",
    "    boxprops={\"facecolor\": 'pink'},\n",
    "    medianprops={\"color\": \"pink\"},\n",
    "#     showfliers=False\n",
    ")\n",
    "\n",
    "# ax.set_xlim(0,4)\n",
    "# ax.set_xticks(range(0,0.075))\n",
    "plt.savefig('categ_eng_outliers.png', bbox_inches='tight')\n",
    "plt.show()\n",
    "# plt.xticks([0, 1.5, 2, 2.5, 3, 4], [0, 1.5, 0.05, 0.075, 1, 4])"
   ]
  },
  {
   "cell_type": "code",
   "execution_count": null,
   "id": "d96ee031",
   "metadata": {
    "execution": {
     "iopub.execute_input": "2022-12-13T17:41:18.745521Z",
     "iopub.status.busy": "2022-12-13T17:41:18.744868Z",
     "iopub.status.idle": "2022-12-13T17:41:18.759147Z",
     "shell.execute_reply": "2022-12-13T17:41:18.757891Z",
     "shell.execute_reply.started": "2022-12-13T17:41:18.745474Z"
    },
    "papermill": {
     "duration": null,
     "end_time": null,
     "exception": null,
     "start_time": null,
     "status": "pending"
    },
    "tags": []
   },
   "outputs": [],
   "source": [
    "df_posts[['taken_at_timestamp']]"
   ]
  },
  {
   "cell_type": "code",
   "execution_count": null,
   "id": "36363891",
   "metadata": {
    "execution": {
     "iopub.execute_input": "2022-12-13T17:41:32.119693Z",
     "iopub.status.busy": "2022-12-13T17:41:32.119270Z",
     "iopub.status.idle": "2022-12-13T17:41:32.185144Z",
     "shell.execute_reply": "2022-12-13T17:41:32.184155Z",
     "shell.execute_reply.started": "2022-12-13T17:41:32.119657Z"
    },
    "papermill": {
     "duration": null,
     "end_time": null,
     "exception": null,
     "start_time": null,
     "status": "pending"
    },
    "tags": []
   },
   "outputs": [],
   "source": [
    "df_posts['date'] = pd.to_datetime(df_posts['taken_at_timestamp'],unit='s')"
   ]
  },
  {
   "cell_type": "code",
   "execution_count": null,
   "id": "abd211ae",
   "metadata": {
    "execution": {
     "iopub.execute_input": "2022-12-13T17:41:40.136177Z",
     "iopub.status.busy": "2022-12-13T17:41:40.135773Z",
     "iopub.status.idle": "2022-12-13T17:41:40.145964Z",
     "shell.execute_reply": "2022-12-13T17:41:40.144756Z",
     "shell.execute_reply.started": "2022-12-13T17:41:40.136145Z"
    },
    "papermill": {
     "duration": null,
     "end_time": null,
     "exception": null,
     "start_time": null,
     "status": "pending"
    },
    "tags": []
   },
   "outputs": [],
   "source": [
    "df_posts['date']"
   ]
  },
  {
   "cell_type": "code",
   "execution_count": null,
   "id": "020829c1",
   "metadata": {
    "execution": {
     "iopub.execute_input": "2022-12-13T17:58:25.305496Z",
     "iopub.status.busy": "2022-12-13T17:58:25.304959Z",
     "iopub.status.idle": "2022-12-13T17:58:25.323332Z",
     "shell.execute_reply": "2022-12-13T17:58:25.322630Z",
     "shell.execute_reply.started": "2022-12-13T17:58:25.305428Z"
    },
    "papermill": {
     "duration": null,
     "end_time": null,
     "exception": null,
     "start_time": null,
     "status": "pending"
    },
    "tags": []
   },
   "outputs": [],
   "source": [
    "df_posts['engagement_rate'].sort_values(ascending = False).head(10)"
   ]
  },
  {
   "cell_type": "code",
   "execution_count": null,
   "id": "9a7b63f9",
   "metadata": {
    "execution": {
     "iopub.execute_input": "2022-12-14T01:11:37.612201Z",
     "iopub.status.busy": "2022-12-14T01:11:37.611179Z",
     "iopub.status.idle": "2022-12-14T01:11:39.257734Z",
     "shell.execute_reply": "2022-12-14T01:11:39.256450Z",
     "shell.execute_reply.started": "2022-12-14T01:11:37.612154Z"
    },
    "papermill": {
     "duration": null,
     "end_time": null,
     "exception": null,
     "start_time": null,
     "status": "pending"
    },
    "tags": []
   },
   "outputs": [],
   "source": [
    "weekday_mean = df_posts.groupby(df_posts['date'].dt.day_name())['engagement_rate'].mean()\n",
    "weekday_max = df_posts.groupby(df_posts['date'].dt.day_name())['engagement_rate'].max()\n",
    "weekday_median = df_posts.groupby(df_posts['date'].dt.day_name())['engagement_rate'].median()\n",
    "weekday_min = df_posts.groupby(df_posts['date'].dt.day_name())['engagement_rate'].min()\n",
    "# print(weekday_mean)\n",
    "# print(weekday_max)\n",
    "# print(weekday_median)\n",
    "\n",
    "import matplotlib.pyplot as plt\n",
    "\n",
    "fig, ax = plt.subplots(2, 2)\n",
    "fig.tight_layout(pad=3.5)\n",
    "\n",
    "ax[0, 0].plot(weekday_min, '#9ADCFF',  linewidth=5) #row=0, col=0\n",
    "ax[1, 0].plot(weekday_max, '#FAAB78', linewidth=5) #row=1, col=0\n",
    "ax[0, 1].plot(weekday_median, '#FFB2A6', linewidth=5) #row=0, col=1\n",
    "ax[1, 1].plot(weekday_mean, '#FF8AAE', linewidth=5) #row=1, col=1\n",
    "\n",
    "print(ax)\n",
    "ax[0, 0].set_xticklabels(weekday_min.index, rotation = 20, ha=\"right\")\n",
    "ax[1, 0].set_xticklabels(weekday_min.index, rotation = 20, ha=\"right\")\n",
    "ax[0, 1].set_xticklabels(weekday_min.index, rotation = 20, ha=\"right\")\n",
    "ax[1, 1].set_xticklabels(weekday_min.index, rotation = 20, ha=\"right\")\n",
    "\n",
    "\n",
    "ax[0, 0].title.set_text(\"Min engagement rate of weekdays\")\n",
    "ax[1, 0].title.set_text(\"Max engagement rate of weekdays\")\n",
    "ax[0, 1].title.set_text(\"Median engagement rate of weekdays\")\n",
    "ax[1, 1].title.set_text(\"Mean engagement rate of weekdays\")\n",
    "\n",
    "plt.savefig('eng_weekday_means.png')\n",
    "\n",
    "plt.show()\n"
   ]
  },
  {
   "cell_type": "code",
   "execution_count": null,
   "id": "4ca13025",
   "metadata": {
    "execution": {
     "iopub.execute_input": "2022-12-14T01:12:23.833318Z",
     "iopub.status.busy": "2022-12-14T01:12:23.832922Z",
     "iopub.status.idle": "2022-12-14T01:12:25.224766Z",
     "shell.execute_reply": "2022-12-14T01:12:25.223467Z",
     "shell.execute_reply.started": "2022-12-14T01:12:23.833286Z"
    },
    "papermill": {
     "duration": null,
     "end_time": null,
     "exception": null,
     "start_time": null,
     "status": "pending"
    },
    "tags": []
   },
   "outputs": [],
   "source": [
    "\n",
    "from matplotlib import pyplot as plt\n",
    "import numpy as np\n",
    "\n",
    "\n",
    "seaborn.set(rc={'figure.figsize':(20,19)})\n",
    "seaborn.set(font_scale = 2)\n",
    "\n",
    "\n",
    "group_weekday = df_posts.groupby(df_posts['date'].dt.day_name())['engagement_rate']\n",
    "res_weekday = g.apply(lambda x: x.sort_values(ascending=False).head(3))\n",
    "weekdays_three_engs = res_weekday.reset_index(name='val').groupby('date')['val']\n",
    "\n",
    "print(weekdays_three_engs)\n",
    "\n",
    "fig, ax = plt.subplots()\n",
    "\n",
    "idx = np.asarray([i for i in range(7)])\n",
    "\n",
    "print(idx)\n",
    "\n",
    "width = 0.2\n",
    "\n",
    "# color = [\"#FFE6E6\"]*3 + [\"#F2D1D1\"]*3 + [\"#DAEAF1\"]*3 + [\"#C6DCE4\"]*3  \n",
    "\n",
    "ax.bar(idx, weekdays_three_engs.first(), width=width, color = \"#54BAB9\")\n",
    "ax.bar(idx+width, weekdays_three_engs.nth(1), width=width, color = \"#E9DAC1\")\n",
    "ax.bar(idx+2*width, weekdays_three_engs.nth(2), width=width, color = \"#9ED2C6\")\n",
    "ax.set_facecolor('#eaeaf2')\n",
    "\n",
    "ax.set_xticks(idx)\n",
    "ax.set_xticklabels(weekdays_three_engs.first().index, rotation=40)\n",
    "\n",
    "ax.set_xlabel('Hours of Day')\n",
    "ax.set_ylabel('Engagement Rate')\n",
    "\n",
    "fig.tight_layout()\n",
    "plt.savefig('weekday_eng.png')\n",
    "plt.show()"
   ]
  },
  {
   "cell_type": "code",
   "execution_count": null,
   "id": "3a2b2c6e",
   "metadata": {
    "execution": {
     "iopub.execute_input": "2022-12-13T18:16:33.654240Z",
     "iopub.status.busy": "2022-12-13T18:16:33.653842Z",
     "iopub.status.idle": "2022-12-13T18:16:33.689470Z",
     "shell.execute_reply": "2022-12-13T18:16:33.688582Z",
     "shell.execute_reply.started": "2022-12-13T18:16:33.654209Z"
    },
    "papermill": {
     "duration": null,
     "end_time": null,
     "exception": null,
     "start_time": null,
     "status": "pending"
    },
    "tags": []
   },
   "outputs": [],
   "source": [
    "\n",
    "g_hour_weekday = df_posts.groupby(df_posts['date'].dt.hour)['engagement_rate']\n",
    "res_hour_weekday = g_hour_weekday.apply(lambda x: x.sort_values(ascending=False).head(3))\n",
    "print(res_hour_weekday)"
   ]
  },
  {
   "cell_type": "code",
   "execution_count": null,
   "id": "2df36ac8",
   "metadata": {
    "execution": {
     "iopub.execute_input": "2022-12-13T19:03:11.519923Z",
     "iopub.status.busy": "2022-12-13T19:03:11.519498Z",
     "iopub.status.idle": "2022-12-13T19:03:11.549537Z",
     "shell.execute_reply": "2022-12-13T19:03:11.547417Z",
     "shell.execute_reply.started": "2022-12-13T19:03:11.519888Z"
    },
    "papermill": {
     "duration": null,
     "end_time": null,
     "exception": null,
     "start_time": null,
     "status": "pending"
    },
    "tags": []
   },
   "outputs": [],
   "source": [
    "g_hour_weekday = df_posts.groupby(df_posts['date'].dt.hour)['engagement_rate']\n",
    "res_hour = g_hour.apply(lambda x: x.sort_values(ascending=False).head(3))\n",
    "print(res_hour)"
   ]
  },
  {
   "cell_type": "code",
   "execution_count": null,
   "id": "d1720de8",
   "metadata": {
    "execution": {
     "iopub.execute_input": "2022-12-13T19:58:10.096087Z",
     "iopub.status.busy": "2022-12-13T19:58:10.095419Z",
     "iopub.status.idle": "2022-12-13T19:58:10.104541Z",
     "shell.execute_reply": "2022-12-13T19:58:10.103060Z",
     "shell.execute_reply.started": "2022-12-13T19:58:10.096048Z"
    },
    "papermill": {
     "duration": null,
     "end_time": null,
     "exception": null,
     "start_time": null,
     "status": "pending"
    },
    "tags": []
   },
   "outputs": [],
   "source": [
    "xx = res_hour.reset_index(name='val').groupby('date')['val']\n"
   ]
  },
  {
   "cell_type": "code",
   "execution_count": null,
   "id": "5e609609",
   "metadata": {
    "execution": {
     "iopub.execute_input": "2022-12-13T19:58:53.169013Z",
     "iopub.status.busy": "2022-12-13T19:58:53.168601Z",
     "iopub.status.idle": "2022-12-13T19:58:53.177811Z",
     "shell.execute_reply": "2022-12-13T19:58:53.176736Z",
     "shell.execute_reply.started": "2022-12-13T19:58:53.168975Z"
    },
    "papermill": {
     "duration": null,
     "end_time": null,
     "exception": null,
     "start_time": null,
     "status": "pending"
    },
    "tags": []
   },
   "outputs": [],
   "source": [
    "xx.first()"
   ]
  },
  {
   "cell_type": "code",
   "execution_count": null,
   "id": "11779b6e",
   "metadata": {
    "execution": {
     "iopub.execute_input": "2022-12-13T20:00:21.660923Z",
     "iopub.status.busy": "2022-12-13T20:00:21.660511Z",
     "iopub.status.idle": "2022-12-13T20:00:21.669011Z",
     "shell.execute_reply": "2022-12-13T20:00:21.668002Z",
     "shell.execute_reply.started": "2022-12-13T20:00:21.660891Z"
    },
    "papermill": {
     "duration": null,
     "end_time": null,
     "exception": null,
     "start_time": null,
     "status": "pending"
    },
    "tags": []
   },
   "outputs": [],
   "source": [
    "xx.first().index"
   ]
  },
  {
   "cell_type": "code",
   "execution_count": null,
   "id": "85493ae0",
   "metadata": {
    "execution": {
     "iopub.execute_input": "2022-12-13T21:13:46.581526Z",
     "iopub.status.busy": "2022-12-13T21:13:46.580886Z",
     "iopub.status.idle": "2022-12-13T21:13:48.812457Z",
     "shell.execute_reply": "2022-12-13T21:13:48.811177Z",
     "shell.execute_reply.started": "2022-12-13T21:13:46.581482Z"
    },
    "papermill": {
     "duration": null,
     "end_time": null,
     "exception": null,
     "start_time": null,
     "status": "pending"
    },
    "tags": []
   },
   "outputs": [],
   "source": [
    "import pandas as pd\n",
    "import matplotlib.pyplot as plt\n",
    "import matplotlib.cm as cm\n",
    "import seaborn\n",
    "import matplotlib.dates as mdates\n",
    "\n",
    "seaborn.set() #make the plots look pretty\n",
    "\n",
    "# df = pd.DataFrame({'value': value, 'type': type})\n",
    "# df['dummy'] = 1\n",
    "# ag = df.groupby(['value','type']).sum().unstack()\n",
    "# ag.columns = ag.columns.droplevel()\n",
    "seaborn.set(rc={'figure.figsize':(20,19)})\n",
    "seaborn.set(font_scale = 2)\n",
    "\n",
    "fig, ax = plt.subplots()\n",
    "color = [\"#FFE6E6\"]*3 + [\"#F2D1D1\"]*3 + [\"#DAEAF1\"]*3 + [\"#C6DCE4\"]*3  \n",
    "\n",
    "# # Text in the x axis will be displayed in 'YYYY-mm' format.\n",
    "# ax.xaxis.set_major_formatter(mdates.DateFormatter('%h'))\n",
    "# # Rotates and right-aligns the x labels so they don't crowd each other.\n",
    "# for label in ax.get_xticklabels(which='major'):\n",
    "#     label.set(rotation=30, horizontalalignment='right')\n",
    "\n",
    "ax.xaxis_date()\n",
    "\n",
    "\n",
    "plt.locator_params(axis='x', nbins=24)\n",
    "\n",
    "res_hour_weekday.plot(kind = 'bar',  width = 1, color = color)\n",
    "\n",
    "\n",
    "\n",
    "# plt.bar(res_hour_weekday.index,res_hour_weekday, color = color, align=\"center\")  \n",
    "\n",
    "# from matplotlib import pyplot as plt\n",
    "# colors = ['r']*3 + ['b']*3 + ['g']*3\n",
    "# barlist = plt.bar(xrange(15), xrange(15))\n",
    "# for item, color in zip(barlist, colors):\n",
    "#      item.set_color(color)\n",
    "# plt.show()\n",
    "\n",
    "# res_hour_weekday.plot.hist()\n",
    "# plt.show()"
   ]
  },
  {
   "cell_type": "code",
   "execution_count": null,
   "id": "5a99d154",
   "metadata": {
    "execution": {
     "iopub.execute_input": "2022-12-13T21:15:02.685327Z",
     "iopub.status.busy": "2022-12-13T21:15:02.684882Z",
     "iopub.status.idle": "2022-12-13T21:15:03.469895Z",
     "shell.execute_reply": "2022-12-13T21:15:03.468690Z",
     "shell.execute_reply.started": "2022-12-13T21:15:02.685292Z"
    },
    "papermill": {
     "duration": null,
     "end_time": null,
     "exception": null,
     "start_time": null,
     "status": "pending"
    },
    "tags": []
   },
   "outputs": [],
   "source": [
    "\n",
    "from matplotlib import pyplot as plt\n",
    "import numpy as np\n",
    "\n",
    "##generating some data\n",
    "# years = range(len(years)\n",
    "# data1 = np.random.rand(len(years))\n",
    "# data2 = np.random.rand(len(years))\n",
    "\n",
    "# diabete = {key: val for key,val in zip(years, data1)}\n",
    "# not_diabete = {key: val for key,val in zip(years, data2)}\n",
    "\n",
    "seaborn.set(rc={'figure.figsize':(20,19)})\n",
    "seaborn.set(font_scale = 2)\n",
    "\n",
    "##the actual graph:\n",
    "fig, ax = plt.subplots()\n",
    "\n",
    "idx = np.asarray([i for i in range(24)])\n",
    "\n",
    "print(idx)\n",
    "\n",
    "width = 0.2\n",
    "\n",
    "# color = [\"#FFE6E6\"]*3 + [\"#F2D1D1\"]*3 + [\"#DAEAF1\"]*3 + [\"#C6DCE4\"]*3  \n",
    "\n",
    "ax.bar(idx, xx.first(), width=width, color = \"#54BAB9\")\n",
    "ax.bar(idx+width, xx.nth(1), width=width, color = \"#E9DAC1\")\n",
    "ax.bar(idx+2*width, xx.nth(2), width=width, color = \"#9ED2C6\")\n",
    "ax.set_facecolor('#eaeaf2')\n",
    "\n",
    "ax.set_xticks(idx)\n",
    "ax.set_xticklabels(xx.first().index, rotation=65)\n",
    "# ax.legend(['Fir', 'Non-Diabete'])\n",
    "ax.set_xlabel('Hours of Day')\n",
    "ax.set_ylabel('Engagement Rate')\n",
    "\n",
    "fig.tight_layout()\n",
    "plt.savefig('hours_eng.png')\n",
    "plt.show()"
   ]
  },
  {
   "cell_type": "code",
   "execution_count": null,
   "id": "9b7418d7",
   "metadata": {
    "execution": {
     "iopub.execute_input": "2022-12-15T00:30:15.426065Z",
     "iopub.status.busy": "2022-12-15T00:30:15.425649Z",
     "iopub.status.idle": "2022-12-15T00:30:16.681792Z",
     "shell.execute_reply": "2022-12-15T00:30:16.680558Z",
     "shell.execute_reply.started": "2022-12-15T00:30:15.426034Z"
    },
    "papermill": {
     "duration": null,
     "end_time": null,
     "exception": null,
     "start_time": null,
     "status": "pending"
    },
    "tags": []
   },
   "outputs": [],
   "source": [
    "import seaborn as sns\n",
    "\n",
    "# Create figure with three axes\n",
    "fig, (ax1, ax2, ax3) = plt.subplots(nrows=1, ncols=3, figsize=(12,8))\n",
    "\n",
    "# seaborn.set(rc={'figure.figsize':(20,19)})\n",
    "seaborn.set(font_scale = 1.5)\n",
    "\n",
    "fig.tight_layout(pad=3.5, )\n",
    "# Plot violin plot on axes 1\n",
    "# ax1.violinplot(df_posts['likes'], showmedians=True)\n",
    "sns.violinplot(ax=ax1, data=df_posts[df_posts['likes']<100000]['likes'],\n",
    "                    palette=\"Set2\", split=True,\n",
    "                    scale=\"count\", inner=\"quartile\")\n",
    "ax1.set_title('Likes')\n",
    "\n",
    "# Plot violin plot on axes 2\n",
    "# ax2.violinplot(df_posts['comments'], showmedians=True)\n",
    "sns.violinplot(ax=ax2, data=df_posts[df_posts['comments']<2000]['comments'],\n",
    "                    palette=\"Set2\", split=True,\n",
    "                    scale=\"count\", inner=\"quartile\")\n",
    "ax2.set_title('Coments')\n",
    "\n",
    "# Plot violin plot on axes 3\n",
    "# ax3.violinplot(df_posts['engagement_rate'], showmedians=True)\n",
    "ac = sns.violinplot(ax=ax3, data=df_posts[df_posts['engagement_rate']<0.3]['engagement_rate'], \n",
    "                    palette=\"Set2\", split=True,\n",
    "                    scale=\"count\", inner=\"quartile\")\n",
    "ax3.set_title('Engagement Rate')\n",
    "\n",
    "for l in ax.lines:\n",
    "    ac.text(l.get_data()[0][l.get_data()[0].nonzero()][0], l.get_data()[1][0], f'{l.get_data()[1][0]:.0f}',size='large') \n",
    "\n",
    "plt.savefig('violin_distribution.png')\n",
    "\n",
    "plt.show()"
   ]
  },
  {
   "cell_type": "code",
   "execution_count": null,
   "id": "81bbea19",
   "metadata": {
    "execution": {
     "iopub.execute_input": "2022-12-15T18:08:37.810218Z",
     "iopub.status.busy": "2022-12-15T18:08:37.809830Z",
     "iopub.status.idle": "2022-12-15T18:08:38.118465Z",
     "shell.execute_reply": "2022-12-15T18:08:38.116925Z",
     "shell.execute_reply.started": "2022-12-15T18:08:37.810191Z"
    },
    "papermill": {
     "duration": null,
     "end_time": null,
     "exception": null,
     "start_time": null,
     "status": "pending"
    },
    "tags": []
   },
   "outputs": [],
   "source": [
    "# {tag.strip(\"#\") for tag in tags.split() if tag.startswith(\"#\")}\n",
    "# set(['announcement', 'rocks', 'stackoverflow'])\n",
    "\n",
    "# df_posts['hashtag'] = np.array(df_posts['caption_text'].str.findall(r'#.*?(?=\\s|$)'))\n",
    "# df_posts['hashtags'] = df_posts['caption_text'].apply(lambda x: x.strip('#'))"
   ]
  },
  {
   "cell_type": "code",
   "execution_count": null,
   "id": "c376d3db",
   "metadata": {
    "execution": {
     "iopub.execute_input": "2022-12-15T18:14:04.090371Z",
     "iopub.status.busy": "2022-12-15T18:14:04.089947Z",
     "iopub.status.idle": "2022-12-15T18:14:04.100459Z",
     "shell.execute_reply": "2022-12-15T18:14:04.099453Z",
     "shell.execute_reply.started": "2022-12-15T18:14:04.090297Z"
    },
    "papermill": {
     "duration": null,
     "end_time": null,
     "exception": null,
     "start_time": null,
     "status": "pending"
    },
    "tags": []
   },
   "outputs": [],
   "source": [
    "# df_posts['hashtag']"
   ]
  },
  {
   "cell_type": "code",
   "execution_count": null,
   "id": "1841c473",
   "metadata": {
    "execution": {
     "iopub.execute_input": "2022-12-15T18:14:07.146525Z",
     "iopub.status.busy": "2022-12-15T18:14:07.146151Z",
     "iopub.status.idle": "2022-12-15T18:14:07.152640Z",
     "shell.execute_reply": "2022-12-15T18:14:07.151696Z",
     "shell.execute_reply.started": "2022-12-15T18:14:07.146494Z"
    },
    "papermill": {
     "duration": null,
     "end_time": null,
     "exception": null,
     "start_time": null,
     "status": "pending"
    },
    "tags": []
   },
   "outputs": [],
   "source": [
    "# type(df_posts['hashtag'][0])"
   ]
  },
  {
   "cell_type": "code",
   "execution_count": null,
   "id": "1692bdb2",
   "metadata": {
    "execution": {
     "iopub.execute_input": "2022-12-15T18:22:38.571013Z",
     "iopub.status.busy": "2022-12-15T18:22:38.570616Z",
     "iopub.status.idle": "2022-12-15T18:22:38.689634Z",
     "shell.execute_reply": "2022-12-15T18:22:38.688679Z",
     "shell.execute_reply.started": "2022-12-15T18:22:38.570962Z"
    },
    "papermill": {
     "duration": null,
     "end_time": null,
     "exception": null,
     "start_time": null,
     "status": "pending"
    },
    "tags": []
   },
   "outputs": [],
   "source": []
  },
  {
   "cell_type": "code",
   "execution_count": null,
   "id": "5ea75f7b",
   "metadata": {
    "execution": {
     "iopub.execute_input": "2022-12-15T18:22:58.822378Z",
     "iopub.status.busy": "2022-12-15T18:22:58.821954Z",
     "iopub.status.idle": "2022-12-15T18:22:58.830630Z",
     "shell.execute_reply": "2022-12-15T18:22:58.828821Z",
     "shell.execute_reply.started": "2022-12-15T18:22:58.822347Z"
    },
    "papermill": {
     "duration": null,
     "end_time": null,
     "exception": null,
     "start_time": null,
     "status": "pending"
    },
    "tags": []
   },
   "outputs": [],
   "source": [
    "# print(hashtags_freq)"
   ]
  },
  {
   "cell_type": "code",
   "execution_count": null,
   "id": "c8da9b86",
   "metadata": {
    "execution": {
     "iopub.execute_input": "2022-12-15T21:54:51.691647Z",
     "iopub.status.busy": "2022-12-15T21:54:51.690596Z",
     "iopub.status.idle": "2022-12-15T21:54:52.246103Z",
     "shell.execute_reply": "2022-12-15T21:54:52.244964Z",
     "shell.execute_reply.started": "2022-12-15T21:54:51.691604Z"
    },
    "papermill": {
     "duration": null,
     "end_time": null,
     "exception": null,
     "start_time": null,
     "status": "pending"
    },
    "tags": []
   },
   "outputs": [],
   "source": [
    "import re\n",
    "\n",
    "def extract_hashtags(s):\n",
    "    s = str(s)\n",
    "    return re.findall(r\"#(\\w+)\", s)\n",
    "    \n",
    "    \n",
    "df_posts['hashtags'] = df_posts['caption_text'].apply(lambda x: extract_hashtags(x))    "
   ]
  },
  {
   "cell_type": "code",
   "execution_count": null,
   "id": "b598848f",
   "metadata": {
    "execution": {
     "iopub.execute_input": "2022-12-15T18:22:29.082711Z",
     "iopub.status.busy": "2022-12-15T18:22:29.082181Z",
     "iopub.status.idle": "2022-12-15T18:22:29.091351Z",
     "shell.execute_reply": "2022-12-15T18:22:29.090432Z",
     "shell.execute_reply.started": "2022-12-15T18:22:29.082678Z"
    },
    "papermill": {
     "duration": null,
     "end_time": null,
     "exception": null,
     "start_time": null,
     "status": "pending"
    },
    "tags": []
   },
   "outputs": [],
   "source": [
    "df_posts['hashtags']"
   ]
  },
  {
   "cell_type": "code",
   "execution_count": null,
   "id": "cdb9ef7a",
   "metadata": {
    "execution": {
     "iopub.execute_input": "2022-12-15T21:55:02.152360Z",
     "iopub.status.busy": "2022-12-15T21:55:02.151640Z",
     "iopub.status.idle": "2022-12-15T21:55:02.300090Z",
     "shell.execute_reply": "2022-12-15T21:55:02.299080Z",
     "shell.execute_reply.started": "2022-12-15T21:55:02.152317Z"
    },
    "papermill": {
     "duration": null,
     "end_time": null,
     "exception": null,
     "start_time": null,
     "status": "pending"
    },
    "tags": []
   },
   "outputs": [],
   "source": [
    "from itertools import chain\n",
    "from collections import Counter\n",
    "\n",
    "hashtags_freq = pd.Series(Counter(chain.from_iterable(x for x in df_posts['hashtags'])))"
   ]
  },
  {
   "cell_type": "code",
   "execution_count": null,
   "id": "5c522b5b",
   "metadata": {
    "execution": {
     "iopub.execute_input": "2022-12-15T21:55:08.630373Z",
     "iopub.status.busy": "2022-12-15T21:55:08.630000Z",
     "iopub.status.idle": "2022-12-15T21:55:08.678556Z",
     "shell.execute_reply": "2022-12-15T21:55:08.677367Z",
     "shell.execute_reply.started": "2022-12-15T21:55:08.630342Z"
    },
    "papermill": {
     "duration": null,
     "end_time": null,
     "exception": null,
     "start_time": null,
     "status": "pending"
    },
    "tags": []
   },
   "outputs": [],
   "source": [
    "print(hashtags_freq.sort_values(ascending = False))\n",
    "hashtags_freq = hashtags_freq.sort_values(ascending = False)\n",
    "hashtags_freq = hashtags_freq.reset_index(level=0)\n",
    "hashtags_freq = hashtags_freq.astype({\"index\": str})\n",
    "hashtags_freq=hashtags_freq.rename(columns = {0:'frequencies', 'index':'hashtags'})\n",
    "hashtags_freq.head(30)"
   ]
  },
  {
   "cell_type": "code",
   "execution_count": null,
   "id": "7dc06ec5",
   "metadata": {
    "execution": {
     "iopub.execute_input": "2022-12-15T19:13:45.545474Z",
     "iopub.status.busy": "2022-12-15T19:13:45.544238Z",
     "iopub.status.idle": "2022-12-15T19:13:45.937015Z",
     "shell.execute_reply": "2022-12-15T19:13:45.935312Z",
     "shell.execute_reply.started": "2022-12-15T19:13:45.545418Z"
    },
    "papermill": {
     "duration": null,
     "end_time": null,
     "exception": null,
     "start_time": null,
     "status": "pending"
    },
    "tags": []
   },
   "outputs": [],
   "source": [
    "import pandas as pd\n",
    "import matplotlib\n",
    "from matplotlib import pyplot as plt\n",
    "import matplotlib.font_manager as fm\n",
    "from matplotlib import ft2font\n",
    "from matplotlib.font_manager import ttfFontProperty\n",
    "import seaborn as sns\n",
    "\n",
    "\n",
    "\n",
    "# labels = hashtags_freq['index'].head(30)\n",
    "\n",
    "fig, ax = plt.subplots()\n",
    "fig.set_size_inches(12, 10)\n",
    "\n",
    "\n",
    "# sns.set_context('paper')\n",
    "\n",
    "# # crashes = sns.load_dataset('car_crashes').sort_values('total', ascending = False)\n",
    "# f, ax = plt.subplots(figsize = (6,15))\n",
    "# sns.set_color_codes('pastel')\n",
    "# sns.barplot(x = 'frequencies', y = \"hashtags\", data = hashtags_freq.head(30),\n",
    "#             color = 'b', edgecolor = 'w')\n",
    "# sns.set_color_codes('muted')\n",
    "# # sns.barplot(x = 'alcohol', y = 'abbrev', data = crashes,\n",
    "# #             label = 'Alcohol-involved', color = 'b', edgecolor = 'w')\n",
    "# ax.legend(ncol = 2, loc = 'lower right')\n",
    "# sns.despine(left = True, bottom = True)\n",
    "\n",
    "\n",
    "# hashtags_freq.head(30).plot(ax=ax, kind='bar', xlabel= 'Hashtags' , ylabel='frequency', color= '#D885A3')\n",
    "\n",
    "\n",
    "plt.barh(hashtags_freq['hashtags'].head(30), hashtags_freq['frequencies'].head(30), height=0.5, color= \"pink\" )\n",
    " \n",
    "    \n",
    "for spine in ax.spines:\n",
    "    ax.spines[spine].set_visible(False)\n",
    "\n",
    "plt.xticks(fontsize=10)\n",
    "plt.yticks(fontsize=10)\n",
    "# sns.barplot(x = 'frequencies', y = \"index\", data = hashtags_freq)\n",
    "\n",
    "# plt.xticks(labels)\n",
    "# ax.set_xticks(labels)\n",
    "# ax.set_xticklabels(labels, rotation=90)\n",
    "\n",
    "# ax.tick_params(axis='both', which='major', labelsize=20)\n",
    "# ax.tick_params(axis='both', which='minor', labelsize=20)\n",
    "# t = ax.text(.5, .25, labels, fontname='/kaggle/working/font.ttf', fontsize=30, ha='center')\n",
    "# fig.savefig('test2png.png', dpi=100)\n",
    "plt.savefig('hashtag_freq.png')\n",
    "plt.show()"
   ]
  },
  {
   "cell_type": "code",
   "execution_count": null,
   "id": "10752717",
   "metadata": {
    "execution": {
     "iopub.execute_input": "2022-12-15T22:08:19.821063Z",
     "iopub.status.busy": "2022-12-15T22:08:19.820664Z",
     "iopub.status.idle": "2022-12-15T22:08:19.974269Z",
     "shell.execute_reply": "2022-12-15T22:08:19.972686Z",
     "shell.execute_reply.started": "2022-12-15T22:08:19.821033Z"
    },
    "papermill": {
     "duration": null,
     "end_time": null,
     "exception": null,
     "start_time": null,
     "status": "pending"
    },
    "tags": []
   },
   "outputs": [],
   "source": [
    "tophastags = hashtags_freq['hashtags'].head(30).tolist()\n",
    "# print(tophastags)\n",
    "df_eng_top_hastags = df_posts[ df_posts[\"hashtags\"].apply(lambda v: bool(len( list(set(v).intersection(tophastags)))))]['engagement_rate']\n",
    "print(df_eng_top_hastags.sort_values(ascending = False))"
   ]
  },
  {
   "cell_type": "code",
   "execution_count": null,
   "id": "6fdb2101",
   "metadata": {
    "execution": {
     "iopub.execute_input": "2022-12-16T06:15:49.934659Z",
     "iopub.status.busy": "2022-12-16T06:15:49.933848Z",
     "iopub.status.idle": "2022-12-16T06:15:55.126655Z",
     "shell.execute_reply": "2022-12-16T06:15:55.125621Z",
     "shell.execute_reply.started": "2022-12-16T06:15:49.934613Z"
    },
    "papermill": {
     "duration": null,
     "end_time": null,
     "exception": null,
     "start_time": null,
     "status": "pending"
    },
    "tags": []
   },
   "outputs": [],
   "source": [
    "#complete text cleaning\n",
    "import re\n",
    "\n",
    "# df_posts['caption_no_hashtags_emojis'] = df_posts['caption_text'].apply(lambda x: re.sub(r\"#(\\w+)\", ' ', str(x)))\n",
    "df_posts['caption_no_hashtags_emojis'] = df_posts['caption_text'].astype(str).apply(lambda x: str(x).encode('ascii', 'ignore').decode('ascii'))\n",
    "\n",
    "filter_char = lambda c: ord(c) < 256\n",
    "df_posts['caption_no_hashtags_emojis'] = df_posts['caption_no_hashtags_emojis'].apply(lambda s: ''.join(filter(filter_char, s)))\n",
    "\n",
    "# pattern_tagged = '(?:^|[^\\w])(?:@)([A-Za-z0-9_](?:(?:[A-Za-z0-9_]|(?:\\.(?!\\.))){0,28}(?:[A-Za-z0-9_]))?)'\n",
    "\n",
    "#tagged ones\n",
    "pattern_tagged  = re.compile(\"(?:^|[^\\w])(?:@)([A-Za-z0-9_](?:(?:[A-Za-z0-9_]|(?:\\.(?!\\.))){0,28}(?:[A-Za-z0-9_]))?)\",flags = re.UNICODE)\n",
    "df_posts['caption_no_hashtags_emojis']  = df_posts['caption_no_hashtags_emojis'].apply(lambda x: pattern_tagged.sub(r' ', str(x))) \n",
    "df_posts['caption_no_hashtags_emojis'] = df_posts['caption_no_hashtags_emojis'].apply(lambda x: x.lower())\n",
    "df_posts['caption_no_hashtags_emojis'] = df_posts['caption_no_hashtags_emojis'].apply(lambda x: re.sub('\\n', ' ', x))\n",
    "#numbers\n",
    "# df_posts['caption_no_hashtags_emojis'] = df_posts['caption_no_hashtags_emojis'].str.replace('\\d+', '')\n",
    "df_posts['caption_no_hashtags_emojis'] = df_posts['caption_no_hashtags_emojis'].str.lower().str.replace('[^\\w\\s]',' ')\n",
    "df_posts['caption_no_hashtags_emojis'] = df_posts['caption_no_hashtags_emojis'].apply(lambda x: x.strip())\n",
    "#one letter words\n",
    "# df_posts['caption_no_hashtags_emojis'] = df_posts['caption_no_hashtags_emojis'].str.replace(r'\\b\\w\\b', '').str.replace(r'\\s+', ' ')\n",
    "\n"
   ]
  },
  {
   "cell_type": "code",
   "execution_count": null,
   "id": "220a9747",
   "metadata": {
    "execution": {
     "iopub.execute_input": "2022-12-16T05:25:01.633601Z",
     "iopub.status.busy": "2022-12-16T05:25:01.633232Z",
     "iopub.status.idle": "2022-12-16T05:25:01.645281Z",
     "shell.execute_reply": "2022-12-16T05:25:01.644186Z",
     "shell.execute_reply.started": "2022-12-16T05:25:01.633570Z"
    },
    "papermill": {
     "duration": null,
     "end_time": null,
     "exception": null,
     "start_time": null,
     "status": "pending"
    },
    "tags": []
   },
   "outputs": [],
   "source": [
    "df_posts['caption_no_hashtags_emojis']"
   ]
  },
  {
   "cell_type": "code",
   "execution_count": null,
   "id": "d97b116a",
   "metadata": {
    "execution": {
     "iopub.execute_input": "2022-12-16T06:15:55.862025Z",
     "iopub.status.busy": "2022-12-16T06:15:55.861577Z",
     "iopub.status.idle": "2022-12-16T06:15:58.348823Z",
     "shell.execute_reply": "2022-12-16T06:15:58.347822Z",
     "shell.execute_reply.started": "2022-12-16T06:15:55.861943Z"
    },
    "papermill": {
     "duration": null,
     "end_time": null,
     "exception": null,
     "start_time": null,
     "status": "pending"
    },
    "tags": []
   },
   "outputs": [],
   "source": [
    "import re\n",
    "from textblob import TextBlob\n",
    "from textblob import Word\n",
    "\n",
    "#repeated characters\n",
    "rx = re.compile(r'([^\\W\\d_])\\1{2,}')\n",
    "\n",
    "df_posts['caption_no_hashtags_emojis'] = df_posts['caption_no_hashtags_emojis'].str.replace('\\d+', '')   \n",
    "df_posts['caption_no_hashtags_emojis'] = df_posts['caption_no_hashtags_emojis'].apply(lambda stri: re.sub(r'^(\\S)\\1{3,}\\S*\\s', '', stri)) \n",
    "# df_posts['caption_no_hashtags_emojis'] = df_posts['caption_no_hashtags_emojis'].apply(lambda stri: re.sub(r'[^\\W\\d_]+', lambda x: Word(rx.sub(r'\\1', x.group())).correct() if rx.search(x.group()) else x.group(), stri)) \n",
    "# removing chars that are not words\n",
    "df_posts['caption_no_hashtags_emojis'] = df_posts['caption_no_hashtags_emojis'].str.replace('[^a-zA-Z]', ' ') \n",
    "df_posts['caption_no_hashtags_emojis'] = df_posts['caption_no_hashtags_emojis'].apply(lambda x: x.strip())\n",
    "\n"
   ]
  },
  {
   "cell_type": "code",
   "execution_count": null,
   "id": "647c790b",
   "metadata": {
    "execution": {
     "iopub.execute_input": "2022-12-16T06:15:58.570831Z",
     "iopub.status.busy": "2022-12-16T06:15:58.570504Z",
     "iopub.status.idle": "2022-12-16T06:16:00.190133Z",
     "shell.execute_reply": "2022-12-16T06:16:00.189067Z",
     "shell.execute_reply.started": "2022-12-16T06:15:58.570801Z"
    },
    "papermill": {
     "duration": null,
     "end_time": null,
     "exception": null,
     "start_time": null,
     "status": "pending"
    },
    "tags": []
   },
   "outputs": [],
   "source": [
    "#repeated letters\n",
    "df_posts['caption_no_hashtags_emojis'] = df_posts['caption_no_hashtags_emojis'].apply(lambda stri: re.sub(r'[^\\w\\s]|(.)(?=\\1)', '', stri)) \n",
    "df_posts['caption_no_hashtags_emojis'] = df_posts['caption_no_hashtags_emojis'].apply(lambda x: x.strip())\n"
   ]
  },
  {
   "cell_type": "code",
   "execution_count": null,
   "id": "e8308dc2",
   "metadata": {
    "execution": {
     "iopub.execute_input": "2022-12-16T06:16:01.122211Z",
     "iopub.status.busy": "2022-12-16T06:16:01.120787Z",
     "iopub.status.idle": "2022-12-16T06:16:02.547812Z",
     "shell.execute_reply": "2022-12-16T06:16:02.546789Z",
     "shell.execute_reply.started": "2022-12-16T06:16:01.122163Z"
    },
    "papermill": {
     "duration": null,
     "end_time": null,
     "exception": null,
     "start_time": null,
     "status": "pending"
    },
    "tags": []
   },
   "outputs": [],
   "source": [
    "df_posts['caption_no_hashtags_emojis'] = df_posts['caption_no_hashtags_emojis'].str.replace(r'\\b\\w\\b', '').str.replace(r'\\s+', ' ')\n",
    "df_posts['caption_no_hashtags_emojis']"
   ]
  },
  {
   "cell_type": "code",
   "execution_count": null,
   "id": "9c969a2f",
   "metadata": {
    "execution": {
     "iopub.execute_input": "2022-12-16T06:16:04.797723Z",
     "iopub.status.busy": "2022-12-16T06:16:04.797341Z",
     "iopub.status.idle": "2022-12-16T06:16:10.926228Z",
     "shell.execute_reply": "2022-12-16T06:16:10.925176Z",
     "shell.execute_reply.started": "2022-12-16T06:16:04.797693Z"
    },
    "papermill": {
     "duration": null,
     "end_time": null,
     "exception": null,
     "start_time": null,
     "status": "pending"
    },
    "tags": []
   },
   "outputs": [],
   "source": [
    "import nltk\n",
    "nltk.download('stopwords')\n",
    "from nltk.corpus import stopwords\n",
    "\n",
    "stop_words = stopwords.words('english')\n",
    "df_posts['caption_no_hashtags_emojis'] = df_posts['caption_no_hashtags_emojis'].apply(lambda x: ' '.join([word for word in x.split() if word not in (stop_words)]))"
   ]
  },
  {
   "cell_type": "code",
   "execution_count": null,
   "id": "f0ad83fd",
   "metadata": {
    "execution": {
     "iopub.execute_input": "2022-12-16T06:16:10.928578Z",
     "iopub.status.busy": "2022-12-16T06:16:10.928219Z",
     "iopub.status.idle": "2022-12-16T06:25:32.131612Z",
     "shell.execute_reply": "2022-12-16T06:25:32.130443Z",
     "shell.execute_reply.started": "2022-12-16T06:16:10.928542Z"
    },
    "papermill": {
     "duration": null,
     "end_time": null,
     "exception": null,
     "start_time": null,
     "status": "pending"
    },
    "tags": []
   },
   "outputs": [],
   "source": [
    "def det(x):\n",
    "    try:\n",
    "        lang = detect(x)\n",
    "    except:\n",
    "        lang = 'Other'\n",
    "    return lang\n",
    "\n",
    "from langdetect import detect\n",
    "df_posts['detect'] = df_posts['caption_no_hashtags_emojis'].apply(det)\n",
    "df_posts = df_posts[df_posts['detect'] == 'en']"
   ]
  },
  {
   "cell_type": "code",
   "execution_count": null,
   "id": "c8bdc88b",
   "metadata": {
    "execution": {
     "iopub.execute_input": "2022-12-16T06:25:48.521110Z",
     "iopub.status.busy": "2022-12-16T06:25:48.520700Z",
     "iopub.status.idle": "2022-12-16T06:25:49.918592Z",
     "shell.execute_reply": "2022-12-16T06:25:49.917554Z",
     "shell.execute_reply.started": "2022-12-16T06:25:48.521076Z"
    },
    "papermill": {
     "duration": null,
     "end_time": null,
     "exception": null,
     "start_time": null,
     "status": "pending"
    },
    "tags": []
   },
   "outputs": [],
   "source": [
    "df_posts.to_csv('posts_cleaned.csv')"
   ]
  },
  {
   "cell_type": "code",
   "execution_count": null,
   "id": "468d3f40",
   "metadata": {
    "execution": {
     "iopub.execute_input": "2022-12-16T05:16:42.047271Z",
     "iopub.status.busy": "2022-12-16T05:16:42.046705Z",
     "iopub.status.idle": "2022-12-16T05:16:42.060208Z",
     "shell.execute_reply": "2022-12-16T05:16:42.058787Z",
     "shell.execute_reply.started": "2022-12-16T05:16:42.047224Z"
    },
    "papermill": {
     "duration": null,
     "end_time": null,
     "exception": null,
     "start_time": null,
     "status": "pending"
    },
    "tags": []
   },
   "outputs": [],
   "source": [
    "df_posts['caption_no_hashtags_emojis']"
   ]
  },
  {
   "cell_type": "code",
   "execution_count": null,
   "id": "d75bffe2",
   "metadata": {
    "execution": {
     "iopub.execute_input": "2022-12-16T05:16:46.516948Z",
     "iopub.status.busy": "2022-12-16T05:16:46.516522Z",
     "iopub.status.idle": "2022-12-16T05:16:50.320504Z",
     "shell.execute_reply": "2022-12-16T05:16:50.318847Z",
     "shell.execute_reply.started": "2022-12-16T05:16:46.516916Z"
    },
    "papermill": {
     "duration": null,
     "end_time": null,
     "exception": null,
     "start_time": null,
     "status": "pending"
    },
    "tags": []
   },
   "outputs": [],
   "source": [
    "new_df = df_posts['caption_no_hashtags_emojis'].str.split(expand=True).stack().value_counts().reset_index() \n",
    "new_df.columns = ['Word', 'Frequency']\n",
    "new_df.head(20)"
   ]
  },
  {
   "cell_type": "code",
   "execution_count": null,
   "id": "9d667624",
   "metadata": {
    "papermill": {
     "duration": null,
     "end_time": null,
     "exception": null,
     "start_time": null,
     "status": "pending"
    },
    "tags": []
   },
   "outputs": [],
   "source": [
    "df_posts['caption_no_hashtags_emojis']"
   ]
  },
  {
   "cell_type": "code",
   "execution_count": null,
   "id": "43d6e514",
   "metadata": {
    "execution": {
     "iopub.execute_input": "2022-12-16T04:52:02.394356Z",
     "iopub.status.busy": "2022-12-16T04:52:02.393916Z",
     "iopub.status.idle": "2022-12-16T04:52:02.401817Z",
     "shell.execute_reply": "2022-12-16T04:52:02.400715Z",
     "shell.execute_reply.started": "2022-12-16T04:52:02.394319Z"
    },
    "papermill": {
     "duration": null,
     "end_time": null,
     "exception": null,
     "start_time": null,
     "status": "pending"
    },
    "tags": []
   },
   "outputs": [],
   "source": []
  },
  {
   "cell_type": "code",
   "execution_count": null,
   "id": "538df4ec",
   "metadata": {
    "execution": {
     "iopub.execute_input": "2022-12-16T06:01:34.725647Z",
     "iopub.status.busy": "2022-12-16T06:01:34.724432Z",
     "iopub.status.idle": "2022-12-16T06:01:34.841374Z",
     "shell.execute_reply": "2022-12-16T06:01:34.838887Z",
     "shell.execute_reply.started": "2022-12-16T06:01:34.725529Z"
    },
    "papermill": {
     "duration": null,
     "end_time": null,
     "exception": null,
     "start_time": null,
     "status": "pending"
    },
    "tags": []
   },
   "outputs": [],
   "source": [
    "df_posts.shape"
   ]
  },
  {
   "cell_type": "code",
   "execution_count": null,
   "id": "f9e5d148",
   "metadata": {
    "execution": {
     "iopub.execute_input": "2022-12-16T23:35:58.264735Z",
     "iopub.status.busy": "2022-12-16T23:35:58.264377Z",
     "iopub.status.idle": "2022-12-16T23:36:02.117258Z",
     "shell.execute_reply": "2022-12-16T23:36:02.116170Z",
     "shell.execute_reply.started": "2022-12-16T23:35:58.264705Z"
    },
    "papermill": {
     "duration": null,
     "end_time": null,
     "exception": null,
     "start_time": null,
     "status": "pending"
    },
    "tags": []
   },
   "outputs": [],
   "source": [
    "from sklearn.feature_extraction.text import TfidfVectorizer\n",
    "\n",
    "\n",
    "tfidf = TfidfVectorizer(binary=True)\n",
    "X = tfidf.fit_transform(df_posts['caption_no_hashtags_emojis']).astype('float32')\n",
    "# X_test = tfidf.transform(test_text).astype('float16')\n",
    "tfidf_tokens = tfidf.get_feature_names_out()\n",
    "\n",
    "import pandas as pd\n",
    "\n",
    "result = pd.DataFrame(\n",
    "    data=X.toarray(), \n",
    "#     index=[\"Doc1\", \"Doc2\", \"Doc3\", \"Doc4\"], \n",
    "    columns=tfidf_tokens,\n",
    "    dtype='float'\n",
    ")\n",
    "\n",
    "result"
   ]
  },
  {
   "cell_type": "code",
   "execution_count": null,
   "id": "329f2612",
   "metadata": {
    "execution": {
     "iopub.execute_input": "2022-12-16T22:33:41.526966Z",
     "iopub.status.busy": "2022-12-16T22:33:41.526353Z"
    },
    "papermill": {
     "duration": null,
     "end_time": null,
     "exception": null,
     "start_time": null,
     "status": "pending"
    },
    "tags": []
   },
   "outputs": [],
   "source": [
    "import pandas as pd\n",
    "import pandas as pd\n",
    "from sklearn.linear_model import LogisticRegression\n",
    "from sklearn.linear_model import LinearRegression\n",
    "from sklearn.model_selection import cross_val_score, StratifiedKFold\n",
    "from sklearn.feature_extraction.text import TfidfVectorizer\n",
    "from scipy.sparse import hstack\n",
    "from matplotlib import pyplot as plt\n",
    "import seaborn as sns\n",
    "import eli5\n",
    "\n",
    "# X_train, X_test, y_train, y_test = train_test_split(df_posts[\"caption_no_hashtags_emojis\"], df_posts['label'], random_state = 0)\n",
    "# # print(X_train)\n",
    "text_transformer = TfidfVectorizer(stop_words='english', ngram_range=(1, 2), lowercase=True, max_features=150000)\n",
    "# # %%time\n",
    "# X_train_text = text_transformer.fit_transform(X_train)\n",
    "# X_test_text = text_transformer.transform(X_test)\n",
    "\n",
    "X = text_transformer.fit_transform(df_posts['caption_no_hashtags_emojis']).astype('float32')\n",
    "tfidf_tokens = text_transformer.get_feature_names_out()\n",
    "\n",
    "result = pd.DataFrame(\n",
    "    data=X.toarray(), \n",
    "#     index=[\"Doc1\", \"Doc2\", \"Doc3\", \"Doc4\"], \n",
    "    columns=tfidf_tokens,\n",
    "    dtype='float'\n",
    ")\n",
    "\n",
    "result"
   ]
  },
  {
   "cell_type": "code",
   "execution_count": null,
   "id": "76b25aaf",
   "metadata": {
    "execution": {
     "iopub.execute_input": "2022-12-16T17:54:02.487390Z",
     "iopub.status.busy": "2022-12-16T17:54:02.487026Z",
     "iopub.status.idle": "2022-12-16T17:54:05.234997Z",
     "shell.execute_reply": "2022-12-16T17:54:05.234023Z",
     "shell.execute_reply.started": "2022-12-16T17:54:02.487358Z"
    },
    "papermill": {
     "duration": null,
     "end_time": null,
     "exception": null,
     "start_time": null,
     "status": "pending"
    },
    "tags": []
   },
   "outputs": [],
   "source": [
    "result = result.astype(float)\n",
    "result"
   ]
  },
  {
   "cell_type": "code",
   "execution_count": null,
   "id": "de43c7e5",
   "metadata": {
    "execution": {
     "iopub.execute_input": "2022-12-16T06:13:41.203484Z",
     "iopub.status.busy": "2022-12-16T06:13:41.202255Z",
     "iopub.status.idle": "2022-12-16T06:13:41.225553Z",
     "shell.execute_reply": "2022-12-16T06:13:41.223705Z",
     "shell.execute_reply.started": "2022-12-16T06:13:41.203435Z"
    },
    "papermill": {
     "duration": null,
     "end_time": null,
     "exception": null,
     "start_time": null,
     "status": "pending"
    },
    "tags": []
   },
   "outputs": [],
   "source": [
    "import pandas as pd\n",
    "  \n",
    "df1 = pd.DataFrame({'id': ['A01', 'A02', 'A03', 'A04'],\n",
    "                    'Name': ['ABC', 'PQR', 'DEF', 'GHI']})\n",
    "  \n",
    "df3 = pd.DataFrame({'City': ['MUMBAI', 'PUNE', 'MUMBAI', 'DELHI'],\n",
    "                    'Age': ['12', '13', '14', '12']})\n",
    "  \n",
    "# the default behaviour is join='outer'\n",
    "# inner join\n",
    "  \n",
    "result = pd.concat([df1, df3], axis=1, join='inner')\n",
    "display(result)"
   ]
  },
  {
   "cell_type": "code",
   "execution_count": null,
   "id": "277aa411",
   "metadata": {
    "execution": {
     "iopub.execute_input": "2022-12-16T23:36:20.703265Z",
     "iopub.status.busy": "2022-12-16T23:36:20.702376Z",
     "iopub.status.idle": "2022-12-16T23:36:21.796897Z",
     "shell.execute_reply": "2022-12-16T23:36:21.795838Z",
     "shell.execute_reply.started": "2022-12-16T23:36:20.703230Z"
    },
    "papermill": {
     "duration": null,
     "end_time": null,
     "exception": null,
     "start_time": null,
     "status": "pending"
    },
    "tags": []
   },
   "outputs": [],
   "source": [
    "df_posts = pd.concat([result,df_posts], axis=1, join='inner')\n",
    "del result"
   ]
  },
  {
   "cell_type": "code",
   "execution_count": null,
   "id": "0f88e50e",
   "metadata": {
    "papermill": {
     "duration": null,
     "end_time": null,
     "exception": null,
     "start_time": null,
     "status": "pending"
    },
    "tags": []
   },
   "outputs": [],
   "source": [
    "df_posts2.to_csv('posts_tf.csv')"
   ]
  },
  {
   "cell_type": "code",
   "execution_count": null,
   "id": "8ab3df8b",
   "metadata": {
    "execution": {
     "iopub.execute_input": "2022-12-16T23:05:57.578235Z",
     "iopub.status.busy": "2022-12-16T23:05:57.577698Z",
     "iopub.status.idle": "2022-12-16T23:05:57.598241Z",
     "shell.execute_reply": "2022-12-16T23:05:57.597140Z",
     "shell.execute_reply.started": "2022-12-16T23:05:57.578148Z"
    },
    "papermill": {
     "duration": null,
     "end_time": null,
     "exception": null,
     "start_time": null,
     "status": "pending"
    },
    "tags": []
   },
   "outputs": [],
   "source": [
    "df_posts.columns"
   ]
  },
  {
   "cell_type": "code",
   "execution_count": null,
   "id": "4d047873",
   "metadata": {
    "execution": {
     "iopub.execute_input": "2022-12-16T02:55:08.841270Z",
     "iopub.status.busy": "2022-12-16T02:55:08.840801Z",
     "iopub.status.idle": "2022-12-16T02:55:08.877207Z",
     "shell.execute_reply": "2022-12-16T02:55:08.875573Z",
     "shell.execute_reply.started": "2022-12-16T02:55:08.841235Z"
    },
    "papermill": {
     "duration": null,
     "end_time": null,
     "exception": null,
     "start_time": null,
     "status": "pending"
    },
    "tags": []
   },
   "outputs": [],
   "source": [
    "X.toarray()"
   ]
  },
  {
   "cell_type": "code",
   "execution_count": null,
   "id": "48513a5a",
   "metadata": {
    "execution": {
     "iopub.execute_input": "2022-12-16T02:53:44.508983Z",
     "iopub.status.busy": "2022-12-16T02:53:44.508414Z",
     "iopub.status.idle": "2022-12-16T02:53:44.521047Z",
     "shell.execute_reply": "2022-12-16T02:53:44.519539Z",
     "shell.execute_reply.started": "2022-12-16T02:53:44.508938Z"
    },
    "papermill": {
     "duration": null,
     "end_time": null,
     "exception": null,
     "start_time": null,
     "status": "pending"
    },
    "tags": []
   },
   "outputs": [],
   "source": [
    "print(X[1000])"
   ]
  },
  {
   "cell_type": "code",
   "execution_count": null,
   "id": "a720f3af",
   "metadata": {
    "execution": {
     "iopub.execute_input": "2022-12-15T22:30:43.247775Z",
     "iopub.status.busy": "2022-12-15T22:30:43.247378Z",
     "iopub.status.idle": "2022-12-15T22:30:51.387024Z",
     "shell.execute_reply": "2022-12-15T22:30:51.385808Z",
     "shell.execute_reply.started": "2022-12-15T22:30:43.247745Z"
    },
    "papermill": {
     "duration": null,
     "end_time": null,
     "exception": null,
     "start_time": null,
     "status": "pending"
    },
    "tags": []
   },
   "outputs": [],
   "source": [
    "import emoji\n",
    "\n",
    "def give_emoji_free_text(text):\n",
    "#     allchars = [str for str in text]\n",
    "    text = str(text)\n",
    "    emoji_list = emoji.distinct_emoji_list(text)\n",
    "    clean_text = ' '.join([str for str in text.split() if not any(i in str for i in emoji_list)])\n",
    "        \n",
    "    return clean_text\n",
    "emoji_pattern = re.compile(\"[\"\n",
    "                           u\"\\U0001F600-\\U0001F64F\" #emotions\n",
    "                           u\"\\U0001F300-\\U0001F5FF\" #sumbols and pictographs\n",
    "                           u\"\\U0001F680-\\U0001F6FF\" #transport and map symbols\n",
    "                           u\"\\U0001F1E0-\\U0001F1FF\" #flags\n",
    "                           u\"\\U00002702-\\U000027B0\"  \n",
    "                           u\"\\U000024C2-\\U0001F251\" \n",
    "\n",
    "                           \"]+\",flags = re.UNICODE)\n",
    "df_posts['caption_no_hashtags_emojis'] = df_posts['caption_no_hashtags_emojis'].apply(lambda s:  give_emoji_free_text(s))\n",
    "df_posts['caption_no_hashtags_emojis'] = df_posts['caption_no_hashtags_emojis'].str.replace('[^\\w\\s#@/:%.,_-]', '', flags=re.UNICODE)\n",
    "df_posts['caption_no_hashtags_emojis'] = df_posts['caption_text'].apply(lambda x: emoji_pattern.sub(r'', str(x)))\n",
    "\n",
    "df_posts['caption_no_hashtags_emojis'] "
   ]
  },
  {
   "cell_type": "code",
   "execution_count": null,
   "id": "8242d697",
   "metadata": {
    "execution": {
     "iopub.execute_input": "2022-12-16T23:36:14.231955Z",
     "iopub.status.busy": "2022-12-16T23:36:14.231561Z",
     "iopub.status.idle": "2022-12-16T23:36:14.247481Z",
     "shell.execute_reply": "2022-12-16T23:36:14.246506Z",
     "shell.execute_reply.started": "2022-12-16T23:36:14.231924Z"
    },
    "papermill": {
     "duration": null,
     "end_time": null,
     "exception": null,
     "start_time": null,
     "status": "pending"
    },
    "tags": []
   },
   "outputs": [],
   "source": [
    "cols =['sponsorsip_label', 'followers', 'followees', 'posts', 'comments_disabled', 'dimensions_width',\n",
    "       'dimensions_height',  'caption_length', 'polarity', 'subjectivity', 'Type_a', \n",
    "       'Type_b', 'mean_comment', 'mean_like', 'class_col']\n",
    "\n",
    "dtypes_dict = {\n",
    "    'sponsorsip_label': 'bool',\n",
    "    'followers': 'float',\n",
    "    'followees': 'float',\n",
    "    'posts': 'float',\n",
    "    'category': 'category',\n",
    "    'comments_disabled': 'bool',\n",
    "    'dimensions_height': 'int64',\n",
    "    'dimensions_width': 'int64',\n",
    "    'tagged_accounts': 'int64', \n",
    "    'caption_length': 'int64',\n",
    "    'emojis_used': 'bool',\n",
    "    'polarity': 'float',\n",
    "    'subjectivity': 'float', \n",
    "    'Type_a': 'bool',\n",
    "    'Type_b': 'bool',\n",
    "    'mean_comment': 'float',\n",
    "    'mean_like': 'float',\n",
    "    'labels': 'category'\n",
    "    \n",
    " }\n",
    "\n",
    "\n",
    "# df_posts_learn = df_posts.sort_values(['taken_at_timestamp'],ascending=False).groupby('user_name').head(14)\n",
    "df_posts = df_posts[cols]"
   ]
  },
  {
   "cell_type": "code",
   "execution_count": null,
   "id": "232746db",
   "metadata": {
    "execution": {
     "iopub.execute_input": "2022-12-16T23:34:00.901552Z",
     "iopub.status.busy": "2022-12-16T23:34:00.901192Z",
     "iopub.status.idle": "2022-12-16T23:34:01.364473Z",
     "shell.execute_reply": "2022-12-16T23:34:01.363528Z",
     "shell.execute_reply.started": "2022-12-16T23:34:00.901523Z"
    },
    "papermill": {
     "duration": null,
     "end_time": null,
     "exception": null,
     "start_time": null,
     "status": "pending"
    },
    "tags": []
   },
   "outputs": [],
   "source": [
    "df_posts['labels']"
   ]
  },
  {
   "cell_type": "code",
   "execution_count": null,
   "id": "68c97f11",
   "metadata": {
    "execution": {
     "iopub.execute_input": "2022-12-16T23:33:36.771632Z",
     "iopub.status.busy": "2022-12-16T23:33:36.771274Z",
     "iopub.status.idle": "2022-12-16T23:33:36.781024Z",
     "shell.execute_reply": "2022-12-16T23:33:36.780070Z",
     "shell.execute_reply.started": "2022-12-16T23:33:36.771602Z"
    },
    "papermill": {
     "duration": null,
     "end_time": null,
     "exception": null,
     "start_time": null,
     "status": "pending"
    },
    "tags": []
   },
   "outputs": [],
   "source": [
    "df_posts.columns"
   ]
  },
  {
   "cell_type": "code",
   "execution_count": null,
   "id": "01799b4a",
   "metadata": {
    "papermill": {
     "duration": null,
     "end_time": null,
     "exception": null,
     "start_time": null,
     "status": "pending"
    },
    "tags": []
   },
   "outputs": [],
   "source": [
    "df_posts_learn.dropna()\n",
    "df_posts_learn.head()\n",
    "print(df_posts_learn.shape)"
   ]
  },
  {
   "cell_type": "code",
   "execution_count": null,
   "id": "8ab0c1e4",
   "metadata": {
    "papermill": {
     "duration": null,
     "end_time": null,
     "exception": null,
     "start_time": null,
     "status": "pending"
    },
    "tags": []
   },
   "outputs": [],
   "source": [
    "df_posts_learn = df_posts_learn[df_posts_learn['sponsorsip_label'].apply(lambda x: not pd.isnull(x))]\n",
    "df_posts_learn = df_posts_learn[df_posts_learn['followers'].apply(lambda x: not pd.isnull(x))]\n",
    "df_posts_learn = df_posts_learn[df_posts_learn['followees'].apply(lambda x: not pd.isnull(x))]\n",
    "df_posts_learn = df_posts_learn[df_posts_learn['posts'].apply(lambda x: not pd.isnull(x))]\n",
    "df_posts_learn = df_posts_learn[df_posts_learn['category'].apply(lambda x: not pd.isnull(x))]\n",
    "df_posts_learn = df_posts_learn[df_posts_learn['comments_disabled'].apply(lambda x: not pd.isnull(x))]\n",
    "df_posts_learn = df_posts_learn[df_posts_learn['dimensions_height'].apply(lambda x: not pd.isnull(x))]\n",
    "df_posts_learn = df_posts_learn[df_posts_learn['dimensions_width'].apply(lambda x: not pd.isnull(x))]\n",
    "df_posts_learn = df_posts_learn[df_posts_learn['tagged_accounts'].apply(lambda x: not pd.isnull(x))]\n",
    "df_posts_learn = df_posts_learn[df_posts_learn['caption_length'].apply(lambda x: not pd.isnull(x))]\n",
    "df_posts_learn = df_posts_learn[df_posts_learn['emojis_used'].apply(lambda x: not pd.isnull(x))]\n",
    "df_posts_learn = df_posts_learn[df_posts_learn['polarity'].apply(lambda x: not pd.isnull(x))]\n",
    "df_posts_learn = df_posts_learn[df_posts_learn['Type_a'].apply(lambda x: not pd.isnull(x))]\n",
    "df_posts_learn = df_posts_learn[df_posts_learn['Type_b'].apply(lambda x: not pd.isnull(x))]\n",
    "df_posts_learn = df_posts_learn[df_posts_learn['mean_comment'].apply(lambda x: not pd.isnull(x))]\n",
    "df_posts_learn = df_posts_learn[df_posts_learn['mean_like'].apply(lambda x: not pd.isnull(x))]\n",
    "df_posts_learn = df_posts_learn[df_posts_learn['engagement_rate'].apply(lambda x: not pd.isnull(x))]"
   ]
  },
  {
   "cell_type": "code",
   "execution_count": null,
   "id": "24381250",
   "metadata": {
    "papermill": {
     "duration": null,
     "end_time": null,
     "exception": null,
     "start_time": null,
     "status": "pending"
    },
    "tags": []
   },
   "outputs": [],
   "source": [
    "print(df_posts_learn.shape)"
   ]
  },
  {
   "cell_type": "code",
   "execution_count": null,
   "id": "6e71482b",
   "metadata": {
    "papermill": {
     "duration": null,
     "end_time": null,
     "exception": null,
     "start_time": null,
     "status": "pending"
    },
    "tags": []
   },
   "outputs": [],
   "source": [
    "df_posts_learn.head()\n",
    "# df_posts_learn.shape"
   ]
  },
  {
   "cell_type": "code",
   "execution_count": null,
   "id": "89e9a0a9",
   "metadata": {
    "papermill": {
     "duration": null,
     "end_time": null,
     "exception": null,
     "start_time": null,
     "status": "pending"
    },
    "tags": []
   },
   "outputs": [],
   "source": [
    "df_posts_learn['category'].unique()"
   ]
  },
  {
   "cell_type": "code",
   "execution_count": null,
   "id": "6409e6c4",
   "metadata": {
    "papermill": {
     "duration": null,
     "end_time": null,
     "exception": null,
     "start_time": null,
     "status": "pending"
    },
    "tags": []
   },
   "outputs": [],
   "source": [
    "df_posts_learn = df_posts_learn.astype(dtypes_dict)"
   ]
  },
  {
   "cell_type": "code",
   "execution_count": null,
   "id": "640bbc24",
   "metadata": {
    "papermill": {
     "duration": null,
     "end_time": null,
     "exception": null,
     "start_time": null,
     "status": "pending"
    },
    "tags": []
   },
   "outputs": [],
   "source": [
    "from sklearn import preprocessing\n",
    "\n",
    "\n",
    "#creating instance of one-hot-encoder\n",
    "encoder = preprocessing.OneHotEncoder(handle_unknown='ignore')\n",
    "\n",
    "#perform one-hot encoding on 'team' column \n",
    "encoder_df = pd.DataFrame(encoder.fit_transform(df_posts_learn[['category']]).toarray() , index=df_posts_learn.index)\n",
    "\n",
    "print(encoder_df)\n",
    "#merge one-hot encoded columns back with original DataFrame\n",
    "df_posts_learn = df_posts_learn.join(encoder_df)"
   ]
  },
  {
   "cell_type": "code",
   "execution_count": null,
   "id": "ad65bc73",
   "metadata": {
    "papermill": {
     "duration": null,
     "end_time": null,
     "exception": null,
     "start_time": null,
     "status": "pending"
    },
    "tags": []
   },
   "outputs": [],
   "source": [
    "df_posts_learn.head()"
   ]
  },
  {
   "cell_type": "code",
   "execution_count": null,
   "id": "3e3cde10",
   "metadata": {
    "papermill": {
     "duration": null,
     "end_time": null,
     "exception": null,
     "start_time": null,
     "status": "pending"
    },
    "tags": []
   },
   "outputs": [],
   "source": [
    "print(df_posts_learn['engagement_rate'])"
   ]
  },
  {
   "cell_type": "code",
   "execution_count": null,
   "id": "cd1662d0",
   "metadata": {
    "papermill": {
     "duration": null,
     "end_time": null,
     "exception": null,
     "start_time": null,
     "status": "pending"
    },
    "tags": []
   },
   "outputs": [],
   "source": [
    "df_posts_learn['engagement_rate']"
   ]
  },
  {
   "cell_type": "code",
   "execution_count": null,
   "id": "4e32e2ba",
   "metadata": {
    "papermill": {
     "duration": null,
     "end_time": null,
     "exception": null,
     "start_time": null,
     "status": "pending"
    },
    "tags": []
   },
   "outputs": [],
   "source": [
    "from sklearn.preprocessing import MinMaxScaler, StandardScaler\n",
    "\n",
    "scaler = MinMaxScaler()\n",
    "\n",
    "\n",
    "# dtypes_dict = {\n",
    "#     'sponsorsip_label': 'bool',\n",
    "#     'followers': 'int64',\n",
    "#     'followees': 'int64',\n",
    "#     'posts': 'int64',\n",
    "#     'category': 'category',\n",
    "#     'comments_disabled': 'bool',\n",
    "#     'dimensions_height': 'int32',\n",
    "#     'dimensions_width': 'int32',\n",
    "#     'tagged_accounts': 'int32', \n",
    "#     'caption_length': 'int32',\n",
    "#     'emojis_used': 'bool',\n",
    "#     'polarity': 'int32',\n",
    "#     'subjectivity': 'int32', \n",
    "#     'Type_a': 'bool',\n",
    "#     'Type_b': 'bool',\n",
    "#     'engagement_rate': 'int32'\n",
    "    \n",
    "#  }\n",
    "\n",
    "\n",
    "df_posts_learn[['followers', 'followees', 'posts', 'caption_length', 'mean_comment', 'mean_like']] = scaler.fit_transform(df_posts_learn[['followers', 'followees', 'posts', 'caption_length', 'mean_comment', 'mean_like']])\n",
    "# df_posts_learn[['mean_comment', 'mean_like']] = scaler.fit_transform(df_posts_learn[['mean_comment', 'mean_like']])"
   ]
  },
  {
   "cell_type": "code",
   "execution_count": null,
   "id": "f1af33f3",
   "metadata": {
    "papermill": {
     "duration": null,
     "end_time": null,
     "exception": null,
     "start_time": null,
     "status": "pending"
    },
    "tags": []
   },
   "outputs": [],
   "source": [
    "df_posts_learn"
   ]
  },
  {
   "cell_type": "code",
   "execution_count": null,
   "id": "5ff43726",
   "metadata": {
    "papermill": {
     "duration": null,
     "end_time": null,
     "exception": null,
     "start_time": null,
     "status": "pending"
    },
    "tags": []
   },
   "outputs": [],
   "source": [
    "df_posts_learn.drop('category', inplace=True, axis=1)\n",
    "# df_posts_learn.drop('followees', inplace=True, axis=1)\n",
    "# df_posts_learn.drop('dimensions_width', inplace=True, axis=1)\n",
    "# df_posts_learn.drop('dimensions_height', inplace=True, axis=1)\n",
    "# df_posts_learn.drop('tagged_accounts', inplace=True, axis=1)\n",
    "# df_posts_learn.drop('emojis_used', inplace=True, axis=1)\n",
    "# df_posts_learn.drop('comments_disabled', inplace=True, axis=1)\n",
    "# df_posts_learn.drop('Type_a', inplace=True, axis=1)\n",
    "# df_posts_learn.drop('Type_b', inplace=True, axis=1)\n",
    "df_posts_learn"
   ]
  },
  {
   "cell_type": "code",
   "execution_count": null,
   "id": "f7853d28",
   "metadata": {
    "papermill": {
     "duration": null,
     "end_time": null,
     "exception": null,
     "start_time": null,
     "status": "pending"
    },
    "tags": []
   },
   "outputs": [],
   "source": [
    "# shorten engagement rate\n",
    "import pandas as pd\n",
    "import math\n",
    "\n",
    "to_places = 3 \n",
    "\n",
    "def truncate(f, n):\n",
    "    return math.floor(f * 10 ** n) / 10 ** n\n",
    "\n",
    "df_posts_learn['engagement_rate'] = df_posts_learn['engagement_rate'].astype(float).apply(lambda number: truncate(number, to_places))"
   ]
  },
  {
   "cell_type": "code",
   "execution_count": null,
   "id": "9c35170d",
   "metadata": {
    "papermill": {
     "duration": null,
     "end_time": null,
     "exception": null,
     "start_time": null,
     "status": "pending"
    },
    "tags": []
   },
   "outputs": [],
   "source": [
    "df_posts_learn.sort_values('engagement_rate')['engagement_rate']"
   ]
  },
  {
   "cell_type": "code",
   "execution_count": null,
   "id": "e5ab053c",
   "metadata": {
    "papermill": {
     "duration": null,
     "end_time": null,
     "exception": null,
     "start_time": null,
     "status": "pending"
    },
    "tags": []
   },
   "outputs": [],
   "source": [
    "df_posts_learn['engagement_rate'] = df_posts_learn['engagement_rate']*100"
   ]
  },
  {
   "cell_type": "code",
   "execution_count": null,
   "id": "93a3c2f6",
   "metadata": {
    "papermill": {
     "duration": null,
     "end_time": null,
     "exception": null,
     "start_time": null,
     "status": "pending"
    },
    "tags": []
   },
   "outputs": [],
   "source": [
    "print(df_posts_learn.shape)"
   ]
  },
  {
   "cell_type": "code",
   "execution_count": null,
   "id": "97405aaa",
   "metadata": {
    "papermill": {
     "duration": null,
     "end_time": null,
     "exception": null,
     "start_time": null,
     "status": "pending"
    },
    "tags": []
   },
   "outputs": [],
   "source": [
    "print(df_posts_learn['engagement_rate'].describe())\n",
    "print(df_posts_learn['engagement_rate'].median())"
   ]
  },
  {
   "cell_type": "code",
   "execution_count": null,
   "id": "9dfa2a4a",
   "metadata": {
    "papermill": {
     "duration": null,
     "end_time": null,
     "exception": null,
     "start_time": null,
     "status": "pending"
    },
    "tags": []
   },
   "outputs": [],
   "source": [
    "import seaborn as sns\n",
    "\n",
    "\n",
    "sns.set(rc={'figure.figsize':(20,18)})\n",
    "\n",
    "from matplotlib import rcParams\n",
    "\n",
    "# figure size in inches\n",
    "rcParams['figure.figsize'] = 20,18\n",
    "\n",
    "g = sns.displot(df_posts_learn, x=\"engagement_rate\", kind=\"kde\")\n",
    "g.fig.set_size_inches(15,15)"
   ]
  },
  {
   "cell_type": "code",
   "execution_count": null,
   "id": "c37641dc",
   "metadata": {
    "papermill": {
     "duration": null,
     "end_time": null,
     "exception": null,
     "start_time": null,
     "status": "pending"
    },
    "tags": []
   },
   "outputs": [],
   "source": [
    "df_posts_learn = df_posts_learn[df_posts_learn['engagement_rate']<0.03]"
   ]
  },
  {
   "cell_type": "code",
   "execution_count": null,
   "id": "9163371f",
   "metadata": {
    "papermill": {
     "duration": null,
     "end_time": null,
     "exception": null,
     "start_time": null,
     "status": "pending"
    },
    "tags": []
   },
   "outputs": [],
   "source": [
    "from scipy import stats\n",
    "\n",
    "df_posts_learn[(np.abs(stats.zscore(df_posts_learn['engagement_rate'])) < 3)]"
   ]
  },
  {
   "cell_type": "code",
   "execution_count": null,
   "id": "e9d8f8d6",
   "metadata": {
    "papermill": {
     "duration": null,
     "end_time": null,
     "exception": null,
     "start_time": null,
     "status": "pending"
    },
    "tags": []
   },
   "outputs": [],
   "source": [
    "# Learn"
   ]
  },
  {
   "cell_type": "code",
   "execution_count": null,
   "id": "9ea2a8f6",
   "metadata": {
    "execution": {
     "iopub.execute_input": "2022-12-16T22:52:41.250045Z",
     "iopub.status.busy": "2022-12-16T22:52:41.248729Z",
     "iopub.status.idle": "2022-12-16T22:52:41.260434Z",
     "shell.execute_reply": "2022-12-16T22:52:41.259376Z",
     "shell.execute_reply.started": "2022-12-16T22:52:41.249998Z"
    },
    "papermill": {
     "duration": null,
     "end_time": null,
     "exception": null,
     "start_time": null,
     "status": "pending"
    },
    "tags": []
   },
   "outputs": [],
   "source": [
    "import matplotlib.pyplot as plt\n",
    "\n",
    "def plot_prediction(test_labels, test_predictions):\n",
    "  fig, ax = plt.subplots(figsize=(8,4))\n",
    "  plt.scatter(test_labels, test_predictions, alpha=0.6, \n",
    "              color='#149c8e', lw=1, ec='#149c8e')\n",
    "  lims = [0,10000 ]\n",
    "\n",
    "  plt.plot(lims, lims, lw=1, color='black')\n",
    "  plt.ticklabel_format(useOffset=False, style='plain')\n",
    "  plt.xlabel('True Values')\n",
    "  plt.ylabel('Predictions')\n",
    "  plt.xticks(fontsize=18)\n",
    "  plt.yticks(fontsize=18)\n",
    "  plt.xlim(lims)\n",
    "  plt.ylim(lims)\n",
    "\n",
    "  plt.tight_layout()\n",
    "  plt.show()\n"
   ]
  },
  {
   "cell_type": "code",
   "execution_count": null,
   "id": "9b49056f",
   "metadata": {
    "execution": {
     "iopub.execute_input": "2022-12-14T23:56:34.202753Z",
     "iopub.status.busy": "2022-12-14T23:56:34.202247Z",
     "iopub.status.idle": "2022-12-14T23:56:34.214769Z",
     "shell.execute_reply": "2022-12-14T23:56:34.213357Z",
     "shell.execute_reply.started": "2022-12-14T23:56:34.202687Z"
    },
    "papermill": {
     "duration": null,
     "end_time": null,
     "exception": null,
     "start_time": null,
     "status": "pending"
    },
    "tags": []
   },
   "outputs": [],
   "source": [
    "df_posts['mean_like']"
   ]
  },
  {
   "cell_type": "code",
   "execution_count": null,
   "id": "6ac24007",
   "metadata": {
    "execution": {
     "iopub.execute_input": "2022-12-15T00:00:54.966488Z",
     "iopub.status.busy": "2022-12-15T00:00:54.966084Z",
     "iopub.status.idle": "2022-12-15T00:00:55.374515Z",
     "shell.execute_reply": "2022-12-15T00:00:55.373171Z",
     "shell.execute_reply.started": "2022-12-15T00:00:54.966456Z"
    },
    "papermill": {
     "duration": null,
     "end_time": null,
     "exception": null,
     "start_time": null,
     "status": "pending"
    },
    "tags": []
   },
   "outputs": [],
   "source": [
    "lik = df_posts[df_posts['mean_like']<5000]\n",
    "\n",
    "fig, ax = plt.subplots(figsize=(20,20))\n",
    "plt.scatter(lik['mean_like'], lik['likes'],\n",
    "              color='#149c8e')\n",
    "# plt.xlim([0,5000])"
   ]
  },
  {
   "cell_type": "code",
   "execution_count": null,
   "id": "4987cb77",
   "metadata": {
    "execution": {
     "iopub.execute_input": "2022-12-14T23:55:47.569131Z",
     "iopub.status.busy": "2022-12-14T23:55:47.568706Z",
     "iopub.status.idle": "2022-12-14T23:55:47.584972Z",
     "shell.execute_reply": "2022-12-14T23:55:47.583702Z",
     "shell.execute_reply.started": "2022-12-14T23:55:47.569098Z"
    },
    "papermill": {
     "duration": null,
     "end_time": null,
     "exception": null,
     "start_time": null,
     "status": "pending"
    },
    "tags": []
   },
   "outputs": [],
   "source": [
    "df_posts.groupby('user_name').ngroups"
   ]
  },
  {
   "cell_type": "code",
   "execution_count": null,
   "id": "829105d9",
   "metadata": {
    "papermill": {
     "duration": null,
     "end_time": null,
     "exception": null,
     "start_time": null,
     "status": "pending"
    },
    "tags": []
   },
   "outputs": [],
   "source": [
    "df_posts_learn = df_posts_learn.drop_duplicates() \n",
    "# Generate data and plot\n",
    "df_posts_learn = df_posts_learn.sample(frac=1)"
   ]
  },
  {
   "cell_type": "code",
   "execution_count": null,
   "id": "14d118b1",
   "metadata": {
    "papermill": {
     "duration": null,
     "end_time": null,
     "exception": null,
     "start_time": null,
     "status": "pending"
    },
    "tags": []
   },
   "outputs": [],
   "source": [
    "df_posts_learn[df_posts_learn[14].apply(lambda x: pd.isnull(x))]"
   ]
  },
  {
   "cell_type": "code",
   "execution_count": null,
   "id": "95075639",
   "metadata": {
    "execution": {
     "iopub.execute_input": "2022-12-16T22:52:57.609152Z",
     "iopub.status.busy": "2022-12-16T22:52:57.608145Z",
     "iopub.status.idle": "2022-12-16T22:53:02.688345Z",
     "shell.execute_reply": "2022-12-16T22:53:02.687115Z",
     "shell.execute_reply.started": "2022-12-16T22:52:57.609113Z"
    },
    "papermill": {
     "duration": null,
     "end_time": null,
     "exception": null,
     "start_time": null,
     "status": "pending"
    },
    "tags": []
   },
   "outputs": [],
   "source": [
    "import tensorflow as tf\n",
    "from tensorflow import keras\n",
    "\n",
    "import numpy as np\n",
    "\n",
    "print(tf.__version__)"
   ]
  },
  {
   "cell_type": "code",
   "execution_count": null,
   "id": "0e096bb0",
   "metadata": {
    "execution": {
     "iopub.execute_input": "2022-12-16T18:41:29.091711Z",
     "iopub.status.busy": "2022-12-16T18:41:29.091368Z",
     "iopub.status.idle": "2022-12-16T18:41:30.327307Z",
     "shell.execute_reply": "2022-12-16T18:41:30.326306Z",
     "shell.execute_reply.started": "2022-12-16T18:41:29.091683Z"
    },
    "papermill": {
     "duration": null,
     "end_time": null,
     "exception": null,
     "start_time": null,
     "status": "pending"
    },
    "tags": []
   },
   "outputs": [],
   "source": [
    "from sklearn.model_selection import train_test_split\n",
    "from sklearn.feature_extraction.text import CountVectorizer\n",
    "from sklearn.feature_extraction.text import TfidfTransformer\n",
    "from sklearn.naive_bayes import MultinomialNB\n",
    "from sklearn.svm import LinearSVC\n",
    "X_train, X_test, y_train, y_test = train_test_split(df_posts[\"caption_no_hashtags_emojis\"], df_posts['engagement_rate'], random_state = 0)\n",
    "del df_posts\n",
    "# y_train= y_train.astype('int')\n",
    "count_vect = CountVectorizer()\n",
    "X_train_counts = count_vect.fit_transform(X_train)\n",
    "tfidf_transformer = TfidfTransformer()\n",
    "X_train_tfidf = tfidf_transformer.fit_transform(X_train_counts)"
   ]
  },
  {
   "cell_type": "code",
   "execution_count": null,
   "id": "a1ad9ff9",
   "metadata": {
    "papermill": {
     "duration": null,
     "end_time": null,
     "exception": null,
     "start_time": null,
     "status": "pending"
    },
    "tags": []
   },
   "outputs": [],
   "source": []
  },
  {
   "cell_type": "code",
   "execution_count": null,
   "id": "f8ab7595",
   "metadata": {
    "execution": {
     "iopub.execute_input": "2022-12-16T18:35:14.122567Z",
     "iopub.status.busy": "2022-12-16T18:35:14.122139Z",
     "iopub.status.idle": "2022-12-16T18:35:14.137992Z",
     "shell.execute_reply": "2022-12-16T18:35:14.137036Z",
     "shell.execute_reply.started": "2022-12-16T18:35:14.122526Z"
    },
    "papermill": {
     "duration": null,
     "end_time": null,
     "exception": null,
     "start_time": null,
     "status": "pending"
    },
    "tags": []
   },
   "outputs": [],
   "source": [
    "X_train_tfidf.shape"
   ]
  },
  {
   "cell_type": "code",
   "execution_count": null,
   "id": "0dac7c90",
   "metadata": {
    "execution": {
     "iopub.execute_input": "2022-12-16T17:58:57.750821Z",
     "iopub.status.busy": "2022-12-16T17:58:57.750474Z",
     "iopub.status.idle": "2022-12-16T17:58:58.766001Z",
     "shell.execute_reply": "2022-12-16T17:58:58.765019Z",
     "shell.execute_reply.started": "2022-12-16T17:58:57.750792Z"
    },
    "papermill": {
     "duration": null,
     "end_time": null,
     "exception": null,
     "start_time": null,
     "status": "pending"
    },
    "tags": []
   },
   "outputs": [],
   "source": [
    "from sklearn.model_selection import train_test_split\n",
    "\n",
    "# print('dataset\\'s shape: ' + str(df_posts.shape))\n",
    "\n",
    "# x = result\n",
    "# del result\n",
    "y = df_posts['engagement_rate']\n",
    "\n",
    "\n",
    "x = df_posts.loc[:, df_posts.columns != 'engagement_rate']\n",
    "y = df_posts['engagement_rate']\n",
    "del df_posts\n",
    "\n",
    "print('x\\'s shape: ' + str(x.shape))\n",
    "print('y\\'s shape: ' + str(y.shape))\n",
    "\n",
    "X_train, X_test, y_train, y_test = train_test_split(x, y, test_size = 0.2, random_state = 1)\n",
    "\n"
   ]
  },
  {
   "cell_type": "code",
   "execution_count": null,
   "id": "d2dc7708",
   "metadata": {
    "papermill": {
     "duration": null,
     "end_time": null,
     "exception": null,
     "start_time": null,
     "status": "pending"
    },
    "tags": []
   },
   "outputs": [],
   "source": [
    "# X_train = X_train.to_numpy() \n",
    "# X_test = X_test.to_numpy() \n",
    "# y_train = X_train.to_numpy() \n",
    "# y_test = y_test.to_numpy() "
   ]
  },
  {
   "cell_type": "code",
   "execution_count": null,
   "id": "f3333fdd",
   "metadata": {
    "execution": {
     "iopub.execute_input": "2022-12-16T18:05:38.793814Z",
     "iopub.status.busy": "2022-12-16T18:05:38.793151Z",
     "iopub.status.idle": "2022-12-16T18:05:38.806477Z",
     "shell.execute_reply": "2022-12-16T18:05:38.805389Z",
     "shell.execute_reply.started": "2022-12-16T18:05:38.793775Z"
    },
    "papermill": {
     "duration": null,
     "end_time": null,
     "exception": null,
     "start_time": null,
     "status": "pending"
    },
    "tags": []
   },
   "outputs": [],
   "source": [
    "\n",
    "def build_model(x_mod):\n",
    "#     print(x_mod)\n",
    "    print(x_mod.shape[1])\n",
    "    model = keras.Sequential([\n",
    "    keras.layers.Input(shape=(x_mod.shape[1],)),                  \n",
    "    keras.layers.Dense(44032, activation=tf.nn.relu),\n",
    "    keras.layers.Dense(34032, activation=tf.nn.relu),\n",
    "    keras.layers.Dense(24032, activation=tf.nn.relu),\n",
    "    keras.layers.Dense(14032, activation='softmax'),\n",
    "    keras.layers.Dense(500, activation=tf.nn.relu),\n",
    "    keras.layers.Dense(150, activation=tf.nn.relu),\n",
    "    keras.layers.Dense(50, activation=tf.nn.relu),\n",
    "    keras.layers.Dense(20, activation=tf.nn.relu),\n",
    "    keras.layers.Dense(1)\n",
    "    ], name=\"MLP_model\")\n",
    "\n",
    "    \n",
    "\n",
    "    optimizer = tf.keras.optimizers.RMSprop(0.001)\n",
    "\n",
    "    model.compile(loss='mse',\n",
    "                optimizer=optimizer,\n",
    "                metrics=['mse', 'mae', 'accuracy'])\n",
    "    return model\n"
   ]
  },
  {
   "cell_type": "code",
   "execution_count": null,
   "id": "e49e00f6",
   "metadata": {
    "papermill": {
     "duration": null,
     "end_time": null,
     "exception": null,
     "start_time": null,
     "status": "pending"
    },
    "tags": []
   },
   "outputs": [],
   "source": [
    "from sklearn.preprocessing import MinMaxScaler, StandardScaler\n",
    "\n",
    "scaler = MinMaxScaler()\n",
    "\n",
    "target_scaler = MinMaxScaler()\n",
    "\n",
    "# print(y_train)\n",
    "# print(y_test)\n",
    "\n",
    "\n",
    "y_train_reshaped = y_train.values.reshape(-1, 1) \n",
    "target_scaler.fit(y_train_reshaped)\n",
    "y_train_reshaped = target_scaler.transform(y_train_reshaped)\n",
    "y_test_reshaped = y_test.values.reshape(-1, 1) \n",
    "y_test_reshaped = target_scaler.transform(y_test_reshaped)\n",
    "# print(y_train_reshaped)\n",
    "# print(y_test_reshaped)\n"
   ]
  },
  {
   "cell_type": "code",
   "execution_count": null,
   "id": "5f2f5d5e",
   "metadata": {
    "execution": {
     "iopub.execute_input": "2022-12-16T18:06:07.559453Z",
     "iopub.status.busy": "2022-12-16T18:06:07.559081Z",
     "iopub.status.idle": "2022-12-16T18:06:17.292032Z",
     "shell.execute_reply": "2022-12-16T18:06:17.291028Z",
     "shell.execute_reply.started": "2022-12-16T18:06:07.559417Z"
    },
    "papermill": {
     "duration": null,
     "end_time": null,
     "exception": null,
     "start_time": null,
     "status": "pending"
    },
    "tags": []
   },
   "outputs": [],
   "source": [
    "X_train = np.asarray(X_train).astype('float32')"
   ]
  },
  {
   "cell_type": "code",
   "execution_count": null,
   "id": "1c69f8c9",
   "metadata": {
    "papermill": {
     "duration": null,
     "end_time": null,
     "exception": null,
     "start_time": null,
     "status": "pending"
    },
    "tags": []
   },
   "outputs": [],
   "source": [
    "model = build_model(X_train)\n",
    "model.summary()\n",
    "# print(X_train)\n",
    "# print(y_train.to_numpy())\n",
    "\n",
    "#358\n",
    "history_ann = model.fit(X_train, y_train, epochs=50,\n",
    "                    validation_split=0.2, verbose=0)"
   ]
  },
  {
   "cell_type": "code",
   "execution_count": null,
   "id": "5decd24a",
   "metadata": {
    "execution": {
     "iopub.execute_input": "2022-12-16T23:36:56.275736Z",
     "iopub.status.busy": "2022-12-16T23:36:56.275296Z",
     "iopub.status.idle": "2022-12-16T23:36:57.185985Z",
     "shell.execute_reply": "2022-12-16T23:36:57.185022Z",
     "shell.execute_reply.started": "2022-12-16T23:36:56.275698Z"
    },
    "papermill": {
     "duration": null,
     "end_time": null,
     "exception": null,
     "start_time": null,
     "status": "pending"
    },
    "tags": []
   },
   "outputs": [],
   "source": [
    "df_posts['class_col']"
   ]
  },
  {
   "cell_type": "code",
   "execution_count": null,
   "id": "d92ac94a",
   "metadata": {
    "execution": {
     "iopub.execute_input": "2022-12-17T00:52:58.791665Z",
     "iopub.status.busy": "2022-12-17T00:52:58.791265Z",
     "iopub.status.idle": "2022-12-17T00:53:06.288067Z",
     "shell.execute_reply": "2022-12-17T00:53:06.287046Z",
     "shell.execute_reply.started": "2022-12-17T00:52:58.791609Z"
    },
    "papermill": {
     "duration": null,
     "end_time": null,
     "exception": null,
     "start_time": null,
     "status": "pending"
    },
    "tags": []
   },
   "outputs": [],
   "source": [
    "import pandas as pd\n",
    "from sklearn.linear_model import LogisticRegression\n",
    "from sklearn.linear_model import LinearRegression\n",
    "from sklearn.model_selection import cross_val_score, StratifiedKFold\n",
    "from sklearn.feature_extraction.text import TfidfVectorizer\n",
    "from sklearn.model_selection import train_test_split\n",
    "from scipy.sparse import hstack\n",
    "from matplotlib import pyplot as plt\n",
    "import seaborn as sns\n",
    "import eli5\n",
    "\n",
    "# del y_train\n",
    "# X_train, X_test, y_train, y_test = train_test_split(df_posts.loc[:, df_posts.columns != 'class_col'], df_posts['class_col'], random_state = 0)\n",
    "X_train, X_test, y_train, y_test = train_test_split(df_posts['caption_text'], df_posts['class_col'], random_state = 0)\n",
    "# print(X_train)\n",
    "\n",
    "\n",
    "text_transformer = TfidfVectorizer(stop_words='english', ngram_range=(1, 2), lowercase=True, max_features=150000)\n",
    "# %%time\n",
    "X_train_text = text_transformer.fit_transform(X_train)\n",
    "# y_train = df_posts['class_col']\n",
    "X_test_text = text_transformer.transform(X_test)"
   ]
  },
  {
   "cell_type": "code",
   "execution_count": null,
   "id": "6fd337ee",
   "metadata": {
    "execution": {
     "iopub.execute_input": "2022-12-17T00:29:56.463640Z",
     "iopub.status.busy": "2022-12-17T00:29:56.462957Z",
     "iopub.status.idle": "2022-12-17T00:29:56.475332Z",
     "shell.execute_reply": "2022-12-17T00:29:56.474102Z",
     "shell.execute_reply.started": "2022-12-17T00:29:56.463592Z"
    },
    "papermill": {
     "duration": null,
     "end_time": null,
     "exception": null,
     "start_time": null,
     "status": "pending"
    },
    "tags": []
   },
   "outputs": [],
   "source": [
    "print(y_train.shape)\n",
    "print(X_test_text.shape)\n",
    "print(X_train.shape)\n",
    "y_train"
   ]
  },
  {
   "cell_type": "code",
   "execution_count": null,
   "id": "64289169",
   "metadata": {
    "execution": {
     "iopub.execute_input": "2022-12-17T00:33:39.224326Z",
     "iopub.status.busy": "2022-12-17T00:33:39.223962Z",
     "iopub.status.idle": "2022-12-17T00:33:39.239425Z",
     "shell.execute_reply": "2022-12-17T00:33:39.238385Z",
     "shell.execute_reply.started": "2022-12-17T00:33:39.224296Z"
    },
    "papermill": {
     "duration": null,
     "end_time": null,
     "exception": null,
     "start_time": null,
     "status": "pending"
    },
    "tags": []
   },
   "outputs": [],
   "source": []
  },
  {
   "cell_type": "code",
   "execution_count": null,
   "id": "5866083a",
   "metadata": {
    "execution": {
     "iopub.execute_input": "2022-12-17T00:33:47.459652Z",
     "iopub.status.busy": "2022-12-17T00:33:47.459286Z",
     "iopub.status.idle": "2022-12-17T00:33:47.464886Z",
     "shell.execute_reply": "2022-12-17T00:33:47.463911Z",
     "shell.execute_reply.started": "2022-12-17T00:33:47.459610Z"
    },
    "papermill": {
     "duration": null,
     "end_time": null,
     "exception": null,
     "start_time": null,
     "status": "pending"
    },
    "tags": []
   },
   "outputs": [],
   "source": [
    "print(df2)"
   ]
  },
  {
   "cell_type": "code",
   "execution_count": null,
   "id": "99ce9b9f",
   "metadata": {
    "papermill": {
     "duration": null,
     "end_time": null,
     "exception": null,
     "start_time": null,
     "status": "pending"
    },
    "tags": []
   },
   "outputs": [],
   "source": [
    "from sklearn.feature_extraction.text import TfidfVectorizer\n",
    "from sklearn.model_selection import train_test_split, GridSearchCV\n",
    "from sklearn.metrics import mean_squared_log_error\n",
    "from sklearn.linear_model import SGDRegressor\n",
    "from sklearn.pipeline import Pipeline\n",
    "import pandas as pd\n",
    "import numpy as np\n",
    "import time\n",
    "import re\n",
    "\n",
    "seed = 101\n",
    "model = SGDRegressor(loss='squared_loss', penalty='l2', random_state=seed, max_iter=5)\n",
    "params = {'penalty':['none','l2','l1'],\n",
    "          'alpha':[1e-4, 2e-4, 5e-4, 1e-3, 2e-3, 5e-3, 1e-2, 2e-2, 5e-2, 0.1]}\n",
    "gs = GridSearchCV(estimator=model,\n",
    "                  param_grid=params,\n",
    "                  scoring='neg_mean_squared_error',\n",
    "                  n_jobs=1,\n",
    "                  cv=5,\n",
    "                  verbose=3)\n",
    "start = time.time()\n",
    "gs.fit(X_train_text, y_train)\n",
    "end = time.time()\n",
    "print('Time to train model: %0.2fs' % (end -start))"
   ]
  },
  {
   "cell_type": "code",
   "execution_count": null,
   "id": "f83f4e93",
   "metadata": {
    "execution": {
     "iopub.execute_input": "2022-12-17T00:05:29.591784Z",
     "iopub.status.busy": "2022-12-17T00:05:29.591404Z",
     "iopub.status.idle": "2022-12-17T00:06:50.023540Z",
     "shell.execute_reply": "2022-12-17T00:06:50.022231Z",
     "shell.execute_reply.started": "2022-12-17T00:05:29.591754Z"
    },
    "papermill": {
     "duration": null,
     "end_time": null,
     "exception": null,
     "start_time": null,
     "status": "pending"
    },
    "tags": []
   },
   "outputs": [],
   "source": [
    "logit = LogisticRegression(C=5e1, solver='lbfgs', multi_class='multinomial', random_state=17, n_jobs=4)\n",
    "skf = StratifiedKFold(n_splits=5, shuffle=True, random_state=17)\n",
    "# %%time\n",
    "cv_results = cross_val_score(logit, X_train_text, y_train, cv=skf, scoring='f1_micro')"
   ]
  },
  {
   "cell_type": "code",
   "execution_count": null,
   "id": "94ea2bef",
   "metadata": {
    "execution": {
     "iopub.execute_input": "2022-12-17T00:07:08.315210Z",
     "iopub.status.busy": "2022-12-17T00:07:08.314816Z",
     "iopub.status.idle": "2022-12-17T00:07:08.323084Z",
     "shell.execute_reply": "2022-12-17T00:07:08.321959Z",
     "shell.execute_reply.started": "2022-12-17T00:07:08.315177Z"
    },
    "papermill": {
     "duration": null,
     "end_time": null,
     "exception": null,
     "start_time": null,
     "status": "pending"
    },
    "tags": []
   },
   "outputs": [],
   "source": [
    "cv_results, cv_results.mean()"
   ]
  },
  {
   "cell_type": "code",
   "execution_count": null,
   "id": "05402585",
   "metadata": {
    "execution": {
     "iopub.execute_input": "2022-12-17T00:53:20.999030Z",
     "iopub.status.busy": "2022-12-17T00:53:20.998659Z",
     "iopub.status.idle": "2022-12-17T00:53:21.109796Z",
     "shell.execute_reply": "2022-12-17T00:53:21.108660Z",
     "shell.execute_reply.started": "2022-12-17T00:53:20.998998Z"
    },
    "papermill": {
     "duration": null,
     "end_time": null,
     "exception": null,
     "start_time": null,
     "status": "pending"
    },
    "tags": []
   },
   "outputs": [],
   "source": [
    "from sklearn.naive_bayes import MultinomialNB\n",
    "\n",
    "naive_bayes_classifier = MultinomialNB()\n",
    "naive_bayes_classifier.fit(X_train_text, y_train)"
   ]
  },
  {
   "cell_type": "code",
   "execution_count": null,
   "id": "83dc7789",
   "metadata": {
    "execution": {
     "iopub.execute_input": "2022-12-17T00:53:25.327937Z",
     "iopub.status.busy": "2022-12-17T00:53:25.326467Z",
     "iopub.status.idle": "2022-12-17T00:53:25.341666Z",
     "shell.execute_reply": "2022-12-17T00:53:25.340694Z",
     "shell.execute_reply.started": "2022-12-17T00:53:25.327885Z"
    },
    "papermill": {
     "duration": null,
     "end_time": null,
     "exception": null,
     "start_time": null,
     "status": "pending"
    },
    "tags": []
   },
   "outputs": [],
   "source": [
    "y_pred = naive_bayes_classifier.predict(X_test_text)"
   ]
  },
  {
   "cell_type": "code",
   "execution_count": null,
   "id": "8fa7f223",
   "metadata": {
    "execution": {
     "iopub.execute_input": "2022-12-17T00:55:24.666849Z",
     "iopub.status.busy": "2022-12-17T00:55:24.665610Z",
     "iopub.status.idle": "2022-12-17T00:55:24.851027Z",
     "shell.execute_reply": "2022-12-17T00:55:24.849777Z",
     "shell.execute_reply.started": "2022-12-17T00:55:24.666801Z"
    },
    "papermill": {
     "duration": null,
     "end_time": null,
     "exception": null,
     "start_time": null,
     "status": "pending"
    },
    "tags": []
   },
   "outputs": [],
   "source": [
    "from sklearn import metrics\n",
    "print(metrics.classification_report(y_test, y_pred, target_names=[ 'average', 'good', 'great','bad']))"
   ]
  },
  {
   "cell_type": "code",
   "execution_count": null,
   "id": "80ff4753",
   "metadata": {
    "execution": {
     "iopub.execute_input": "2022-12-17T00:56:34.229613Z",
     "iopub.status.busy": "2022-12-17T00:56:34.229237Z",
     "iopub.status.idle": "2022-12-17T00:56:34.294670Z",
     "shell.execute_reply": "2022-12-17T00:56:34.291884Z",
     "shell.execute_reply.started": "2022-12-17T00:56:34.229571Z"
    },
    "papermill": {
     "duration": null,
     "end_time": null,
     "exception": null,
     "start_time": null,
     "status": "pending"
    },
    "tags": []
   },
   "outputs": [],
   "source": [
    "print(\"Confusion matrix:\")\n",
    "print(metrics.confusion_matrix(y_test, y_pred))"
   ]
  },
  {
   "cell_type": "code",
   "execution_count": null,
   "id": "d18814d1",
   "metadata": {
    "papermill": {
     "duration": null,
     "end_time": null,
     "exception": null,
     "start_time": null,
     "status": "pending"
    },
    "tags": []
   },
   "outputs": [],
   "source": [
    "# clf.score(X_test_transformed, y_test)"
   ]
  },
  {
   "cell_type": "code",
   "execution_count": null,
   "id": "9d2a4d12",
   "metadata": {
    "papermill": {
     "duration": null,
     "end_time": null,
     "exception": null,
     "start_time": null,
     "status": "pending"
    },
    "tags": []
   },
   "outputs": [],
   "source": [
    "from keras.models import Sequential\n",
    "from keras.models import Sequential\n",
    "from keras.layers import Dense, Dropout\n",
    "from keras.layers import Flatten\n",
    "from keras.layers.embeddings import Embedding\n",
    "from keras.preprocessing import sequence\n",
    "\n",
    "def batch_generator(X_data, y_data, batch_size):\n",
    "    samples_per_epoch = X_data.shape[0]\n",
    "    number_of_batches = samples_per_epoch/batch_size\n",
    "    counter=0\n",
    "    index = np.arange(np.shape(y_data)[0])\n",
    "    while 1:\n",
    "        index_batch = index[batch_size*counter:batch_size*(counter+1)]\n",
    "        X_batch = X_data[index_batch,:].toarray()\n",
    "        y_batch = y_data[y_data.index[index_batch]]\n",
    "        counter += 1\n",
    "        yield X_batch,y_batch\n",
    "        if (counter > number_of_batches):\n",
    "            counter=0\n",
    "\n",
    "model1 = Sequential()\n",
    "model1.add(Dense(64, activation='relu', input_dim=100000))\n",
    "model1.add(Dropout(0.2))\n",
    "model1.add(Dense(1, activation='sigmoid'))\n",
    "model1.compile(optimizer='adam',\n",
    "              loss='binary_crossentropy',\n",
    "              metrics=['accuracy'])\n",
    "\n",
    "# model1.fit_generator(generator=batch_generator(X_train_tfidf, y_train, 32),\n",
    "#                     epochs=5, validation_split=0.2,\n",
    "#                     steps_per_epoch=X_train_tfidf.shape[0]/32)\n",
    "\n",
    "history_ann = model1.fit(X_train, y_train, epochs=50,\n",
    "                    validation_split=0.2, verbose=0)"
   ]
  },
  {
   "cell_type": "code",
   "execution_count": null,
   "id": "f452a23b",
   "metadata": {
    "papermill": {
     "duration": null,
     "end_time": null,
     "exception": null,
     "start_time": null,
     "status": "pending"
    },
    "tags": []
   },
   "outputs": [],
   "source": [
    "X_test = np.asarray(X_test).astype('float32')"
   ]
  },
  {
   "cell_type": "code",
   "execution_count": null,
   "id": "97f6e33f",
   "metadata": {
    "papermill": {
     "duration": null,
     "end_time": null,
     "exception": null,
     "start_time": null,
     "status": "pending"
    },
    "tags": []
   },
   "outputs": [],
   "source": [
    "# print(X_test)\n",
    "test_predictions = model.predict(X_test).flatten()\n",
    "\n",
    "\n",
    "\n",
    "plot_prediction(y_test, test_predictions)"
   ]
  },
  {
   "cell_type": "code",
   "execution_count": null,
   "id": "a3cf7992",
   "metadata": {
    "papermill": {
     "duration": null,
     "end_time": null,
     "exception": null,
     "start_time": null,
     "status": "pending"
    },
    "tags": []
   },
   "outputs": [],
   "source": [
    "X_train = np.asarray(X_train).astype('float32')\n",
    "X_test = np.asarray(X_test).astype('float32')"
   ]
  },
  {
   "cell_type": "code",
   "execution_count": null,
   "id": "8039811b",
   "metadata": {
    "papermill": {
     "duration": null,
     "end_time": null,
     "exception": null,
     "start_time": null,
     "status": "pending"
    },
    "tags": []
   },
   "outputs": [],
   "source": [
    "\n",
    "\n",
    "train_data_reshaped = X_train.reshape(X_train.shape[0],X_train.shape[1],1)\n",
    "print(X_train.shape[0], X_train.shape[1])\n",
    "print(X_test.shape[0], X_test.shape[1])\n",
    "test_data_reshaped = X_test.reshape(X_test.shape[0],X_test.shape[1],1)"
   ]
  },
  {
   "cell_type": "code",
   "execution_count": null,
   "id": "ff7de0db",
   "metadata": {
    "papermill": {
     "duration": null,
     "end_time": null,
     "exception": null,
     "start_time": null,
     "status": "pending"
    },
    "tags": []
   },
   "outputs": [],
   "source": [
    "def build_conv1D_model(x_tr_mod):\n",
    "\n",
    "  n_timesteps = x_tr_mod.shape[1] #13\n",
    "  n_features  = x_tr_mod.shape[2] #1 \n",
    "  print(x_tr_mod.shape[2])\n",
    "  model = keras.Sequential(name=\"model_conv1D\")\n",
    "  model.add(keras.layers.Input(shape=(n_timesteps,n_features)))\n",
    "  model.add(keras.layers.Conv1D(filters=10, kernel_size=7, activation='relu', name=\"Conv1D_1\"))\n",
    "  model.add(keras.layers.Dropout(0.5))\n",
    "  model.add(keras.layers.Conv1D(filters=9, kernel_size=3, activation='relu', name=\"Conv1D_2\"))\n",
    "#   model.add(keras.layers.Conv1D(filters=7, kernel_size=3, activation='linear', name=\"Conv1D_3\"))\n",
    "  model.add(keras.layers.Conv1D(filters=4, kernel_size=2, activation='relu', name=\"Conv1D_3\"))\n",
    "  \n",
    "  model.add(keras.layers.MaxPooling1D(pool_size=2, name=\"MaxPooling1D\"))\n",
    "  model.add(keras.layers.Flatten())\n",
    "#   model.add(keras.layers.Dense(8, activation='linear', name=\"Dense_1\"))\n",
    "  model.add(keras.layers.Dense(n_features, name=\"Dense_2\"))\n",
    "\n",
    "\n",
    "  optimizer = tf.keras.optimizers.RMSprop(0.001)\n",
    "\n",
    "  model.compile(loss='mse',optimizer=optimizer,metrics=['mse', 'mae'])\n",
    "  return model"
   ]
  },
  {
   "cell_type": "code",
   "execution_count": null,
   "id": "973a3b6f",
   "metadata": {
    "papermill": {
     "duration": null,
     "end_time": null,
     "exception": null,
     "start_time": null,
     "status": "pending"
    },
    "tags": []
   },
   "outputs": [],
   "source": [
    "# train_data_reshaped = X_train.values.reshape(-1, 1) \n",
    "# train_data_reshaped.fit(y_train_reshaped)\n",
    "\n",
    "model_conv1D = build_conv1D_model(train_data_reshaped)\n",
    "model_conv1D.summary()\n",
    "\n",
    "#457, 200, 520\n",
    "history_cnn = model_conv1D.fit(train_data_reshaped, y_train, epochs=712,\n",
    "                    validation_split=0.2, verbose=0)"
   ]
  },
  {
   "cell_type": "code",
   "execution_count": null,
   "id": "db2b3f08",
   "metadata": {
    "papermill": {
     "duration": null,
     "end_time": null,
     "exception": null,
     "start_time": null,
     "status": "pending"
    },
    "tags": []
   },
   "outputs": [],
   "source": [
    "test_predictions = model_conv1D.predict(test_data_reshaped).flatten()\n",
    "plot_prediction(y_test, test_predictions)"
   ]
  },
  {
   "cell_type": "code",
   "execution_count": null,
   "id": "6b8ab154",
   "metadata": {
    "papermill": {
     "duration": null,
     "end_time": null,
     "exception": null,
     "start_time": null,
     "status": "pending"
    },
    "tags": []
   },
   "outputs": [],
   "source": [
    "import matplotlib.pyplot as plt\n",
    "\n",
    "plt.plot(history_ann.history['mae'], label='ANN')\n",
    "plt.plot(history_cnn.history['mae'], label='CNN')\n",
    "plt.ylim([0, 5])\n",
    "plt.xlabel('Epoc')\n",
    "plt.ylabel('Mean absolute error')\n",
    "plt.legend()\n",
    "plt.grid(True)"
   ]
  },
  {
   "cell_type": "code",
   "execution_count": null,
   "id": "0aa71bd4",
   "metadata": {
    "papermill": {
     "duration": null,
     "end_time": null,
     "exception": null,
     "start_time": null,
     "status": "pending"
    },
    "tags": []
   },
   "outputs": [],
   "source": [
    "from tabulate import tabulate\n",
    "[loss_cnn, mse_cnn, mae_cnn] = model_conv1D.evaluate(test_data_reshaped, y_test, verbose=0)\n",
    "[loss_ann, mse_ann, mae_ann] = model.evaluate(X_test, y_test, verbose=0)\n",
    "\n",
    "data = [['CNN', mse_cnn, mae_cnn], \n",
    "        ['ANN', mse_ann, mae_ann]]\n",
    "\n",
    "col_names = ['MODEL', \"MSE\", \"MAE\", \"RMSE\"]\n",
    "  \n",
    "\n",
    "print(tabulate(data, headers=col_names))"
   ]
  }
 ],
 "metadata": {
  "kernelspec": {
   "display_name": "Python 3",
   "language": "python",
   "name": "python3"
  },
  "language_info": {
   "codemirror_mode": {
    "name": "ipython",
    "version": 3
   },
   "file_extension": ".py",
   "mimetype": "text/x-python",
   "name": "python",
   "nbconvert_exporter": "python",
   "pygments_lexer": "ipython3",
   "version": "3.7.12"
  },
  "papermill": {
   "default_parameters": {},
   "duration": 55.232785,
   "end_time": "2022-12-17T00:59:07.389025",
   "environment_variables": {},
   "exception": true,
   "input_path": "__notebook__.ipynb",
   "output_path": "__notebook__.ipynb",
   "parameters": {},
   "start_time": "2022-12-17T00:58:12.156240",
   "version": "2.3.4"
  }
 },
 "nbformat": 4,
 "nbformat_minor": 5
}
