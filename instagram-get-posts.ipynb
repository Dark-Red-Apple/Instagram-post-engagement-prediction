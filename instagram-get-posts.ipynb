{
 "cells": [
  {
   "cell_type": "code",
   "execution_count": 1,
   "id": "7f5a70f8",
   "metadata": {
    "execution": {
     "iopub.execute_input": "2022-12-01T03:23:14.467138Z",
     "iopub.status.busy": "2022-12-01T03:23:14.466305Z",
     "iopub.status.idle": "2022-12-01T03:23:25.741006Z",
     "shell.execute_reply": "2022-12-01T03:23:25.739123Z"
    },
    "papermill": {
     "duration": 11.283254,
     "end_time": "2022-12-01T03:23:25.744033",
     "exception": false,
     "start_time": "2022-12-01T03:23:14.460779",
     "status": "completed"
    },
    "tags": []
   },
   "outputs": [
    {
     "name": "stdout",
     "output_type": "stream",
     "text": [
      "Collecting gdown\r\n",
      "  Downloading gdown-4.5.4-py3-none-any.whl (14 kB)\r\n",
      "Requirement already satisfied: beautifulsoup4 in /opt/conda/lib/python3.7/site-packages (from gdown) (4.11.1)\r\n",
      "Requirement already satisfied: filelock in /opt/conda/lib/python3.7/site-packages (from gdown) (3.7.1)\r\n",
      "Requirement already satisfied: six in /opt/conda/lib/python3.7/site-packages (from gdown) (1.15.0)\r\n",
      "Requirement already satisfied: requests[socks] in /opt/conda/lib/python3.7/site-packages (from gdown) (2.28.1)\r\n",
      "Requirement already satisfied: tqdm in /opt/conda/lib/python3.7/site-packages (from gdown) (4.64.0)\r\n",
      "Requirement already satisfied: soupsieve>1.2 in /opt/conda/lib/python3.7/site-packages (from beautifulsoup4->gdown) (2.3.1)\r\n",
      "Requirement already satisfied: certifi>=2017.4.17 in /opt/conda/lib/python3.7/site-packages (from requests[socks]->gdown) (2022.9.24)\r\n",
      "Requirement already satisfied: idna<4,>=2.5 in /opt/conda/lib/python3.7/site-packages (from requests[socks]->gdown) (3.3)\r\n",
      "Requirement already satisfied: charset-normalizer<3,>=2 in /opt/conda/lib/python3.7/site-packages (from requests[socks]->gdown) (2.1.0)\r\n",
      "Requirement already satisfied: urllib3<1.27,>=1.21.1 in /opt/conda/lib/python3.7/site-packages (from requests[socks]->gdown) (1.26.12)\r\n",
      "Requirement already satisfied: PySocks!=1.5.7,>=1.5.6 in /opt/conda/lib/python3.7/site-packages (from requests[socks]->gdown) (1.7.1)\r\n",
      "Installing collected packages: gdown\r\n",
      "Successfully installed gdown-4.5.4\r\n",
      "\u001b[33mWARNING: Running pip as the 'root' user can result in broken permissions and conflicting behaviour with the system package manager. It is recommended to use a virtual environment instead: https://pip.pypa.io/warnings/venv\u001b[0m\u001b[33m\r\n",
      "\u001b[0mNote: you may need to restart the kernel to use updated packages.\n"
     ]
    }
   ],
   "source": [
    "pip install gdown"
   ]
  },
  {
   "cell_type": "code",
   "execution_count": 2,
   "id": "600fe86e",
   "metadata": {
    "execution": {
     "iopub.execute_input": "2022-12-01T03:23:25.752764Z",
     "iopub.status.busy": "2022-12-01T03:23:25.752448Z",
     "iopub.status.idle": "2022-12-01T03:23:25.988355Z",
     "shell.execute_reply": "2022-12-01T03:23:25.987060Z"
    },
    "papermill": {
     "duration": 0.242066,
     "end_time": "2022-12-01T03:23:25.990036",
     "exception": true,
     "start_time": "2022-12-01T03:23:25.747970",
     "status": "failed"
    },
    "tags": []
   },
   "outputs": [
    {
     "ename": "FileNotFoundError",
     "evalue": "[Errno 2] No such file or directory: '/kaggle/working/json_files.zip'",
     "output_type": "error",
     "traceback": [
      "\u001b[0;31m---------------------------------------------------------------------------\u001b[0m",
      "\u001b[0;31mFileNotFoundError\u001b[0m                         Traceback (most recent call last)",
      "\u001b[0;32m/tmp/ipykernel_25/590061448.py\u001b[0m in \u001b[0;36m<module>\u001b[0;34m\u001b[0m\n\u001b[1;32m      5\u001b[0m \u001b[0;34m\u001b[0m\u001b[0m\n\u001b[1;32m      6\u001b[0m \u001b[0moutput\u001b[0m \u001b[0;34m=\u001b[0m \u001b[0;34m'json_files.zip'\u001b[0m\u001b[0;34m\u001b[0m\u001b[0;34m\u001b[0m\u001b[0m\n\u001b[0;32m----> 7\u001b[0;31m \u001b[0mos\u001b[0m\u001b[0;34m.\u001b[0m\u001b[0mremove\u001b[0m\u001b[0;34m(\u001b[0m\u001b[0;34m\"/kaggle/working/json_files.zip\"\u001b[0m\u001b[0;34m)\u001b[0m\u001b[0;34m\u001b[0m\u001b[0;34m\u001b[0m\u001b[0m\n\u001b[0m\u001b[1;32m      8\u001b[0m \u001b[0mgdown\u001b[0m\u001b[0;34m.\u001b[0m\u001b[0mdownload\u001b[0m\u001b[0;34m(\u001b[0m\u001b[0murl\u001b[0m\u001b[0;34m,\u001b[0m \u001b[0moutput\u001b[0m\u001b[0;34m,\u001b[0m \u001b[0mquiet\u001b[0m\u001b[0;34m=\u001b[0m\u001b[0;32mFalse\u001b[0m\u001b[0;34m)\u001b[0m\u001b[0;34m\u001b[0m\u001b[0;34m\u001b[0m\u001b[0m\n",
      "\u001b[0;31mFileNotFoundError\u001b[0m: [Errno 2] No such file or directory: '/kaggle/working/json_files.zip'"
     ]
    }
   ],
   "source": [
    "import gdown\n",
    "import os\n",
    "\n",
    "url = 'https://drive.google.com/uc?id=10m2vzWMZcSDmzyTbFYi4zadk8Yq16T0d'\n",
    "\n",
    "output = 'json_files.zip'\n",
    "os.remove(\"/kaggle/working/json_files.zip\")\n",
    "gdown.download(url, output, quiet=False)"
   ]
  },
  {
   "cell_type": "code",
   "execution_count": null,
   "id": "78acf81f",
   "metadata": {
    "execution": {
     "iopub.execute_input": "2022-12-01T02:42:45.922461Z",
     "iopub.status.busy": "2022-12-01T02:42:45.922065Z",
     "iopub.status.idle": "2022-12-01T02:51:14.259470Z",
     "shell.execute_reply": "2022-12-01T02:51:14.258529Z",
     "shell.execute_reply.started": "2022-12-01T02:42:45.922430Z"
    },
    "papermill": {
     "duration": null,
     "end_time": null,
     "exception": null,
     "start_time": null,
     "status": "pending"
    },
    "tags": []
   },
   "outputs": [],
   "source": [
    "import sys\n",
    "import json\n",
    "import pandas as pd\n",
    "import random\n",
    "import numpy as np\n",
    "\n",
    "\n",
    "if sys.version_info >= (3, 6):\n",
    "    import zipfile\n",
    "else:\n",
    "    import zipfile36 as zipfile\n",
    "\n",
    "cols = ['id', 'shortcode', 'owner.id', '__typename', 'is_video', 'comments_disabled', 'dimensions.height', 'dimensions.width', 'edge_media_preview_like.count', \n",
    "'edge_media_to_comment.count', 'caption_text', 'taken_at_timestamp']\n",
    "\n",
    "dfs = []\n",
    "file_name = 'this_is_my_path/File_A.json'\n",
    "\n",
    "\n",
    "# counter = 0;\n",
    "#         print(counter) \n",
    "            \n",
    "#         if( counter == 7 ):\n",
    "#             break\n",
    "#         counter += 1\n",
    "\n",
    "dtypes_dict = {\n",
    "    'id': 'int64',\n",
    "    'shortcode': 'str',\n",
    "    'owner.id': 'int64',\n",
    "    '__typename': 'str',\n",
    "    'is_video': 'bool',\n",
    "    'comments_disabled': 'bool',\n",
    "    'dimensions.height': 'int32',\n",
    "    'dimensions.width': 'int32',\n",
    "    'edge_media_preview_like.count': 'int32', \n",
    "    'edge_media_to_comment.count': 'int32',\n",
    "    'caption_text': 'str',\n",
    "    'taken_at_timestamp': 'str',    \n",
    " }\n",
    "\n",
    "with zipfile.ZipFile('/kaggle/working/json_files.zip', 'r') as z:\n",
    "    for i in z.infolist():\n",
    "\n",
    "        if not i.is_dir() and i.filename.endswith('.json'):    \n",
    "            \n",
    "            if(random.random() >= 0.06):\n",
    "                # print('boboo')            \n",
    "                continue\n",
    "                \n",
    "            with z.open((i.filename), 'r') as f:\n",
    "                \n",
    "                data = f.read()\n",
    "                json_file = json.loads(data)\n",
    "\n",
    "                df = pd.json_normalize(json_file)\n",
    "                if(df['edge_media_to_caption.edges'][0]):\n",
    "                    df['caption_text'] = df['edge_media_to_caption.edges'][0][0]['node']['text']\n",
    "                else:\n",
    "                    df['caption_text'] = \"\"\n",
    "                # print(df['caption_text'])\n",
    "                \n",
    "                try:\n",
    "                    df = df[cols]\n",
    "                    df = df.astype(dtypes_dict)\n",
    "                    arr = df.to_numpy()\n",
    "                    dfs.append(arr[0]) \n",
    "                    \n",
    "                except KeyError as ex:\n",
    "                    continue       \n",
    "\n"
   ]
  },
  {
   "cell_type": "code",
   "execution_count": null,
   "id": "f9e3d806",
   "metadata": {
    "execution": {
     "iopub.execute_input": "2022-12-01T02:51:22.605297Z",
     "iopub.status.busy": "2022-12-01T02:51:22.604940Z",
     "iopub.status.idle": "2022-12-01T02:51:23.118437Z",
     "shell.execute_reply": "2022-12-01T02:51:23.117249Z",
     "shell.execute_reply.started": "2022-12-01T02:51:22.605266Z"
    },
    "papermill": {
     "duration": null,
     "end_time": null,
     "exception": null,
     "start_time": null,
     "status": "pending"
    },
    "tags": []
   },
   "outputs": [],
   "source": [
    "df_posts = pd.DataFrame(dfs, columns=cols)\n",
    "df_posts.shape"
   ]
  },
  {
   "cell_type": "code",
   "execution_count": null,
   "id": "ffcb9c00",
   "metadata": {
    "execution": {
     "iopub.execute_input": "2022-12-01T02:59:14.642145Z",
     "iopub.status.busy": "2022-12-01T02:59:14.641770Z",
     "iopub.status.idle": "2022-12-01T02:59:14.686148Z",
     "shell.execute_reply": "2022-12-01T02:59:14.685047Z",
     "shell.execute_reply.started": "2022-12-01T02:59:14.642113Z"
    },
    "papermill": {
     "duration": null,
     "end_time": null,
     "exception": null,
     "start_time": null,
     "status": "pending"
    },
    "tags": []
   },
   "outputs": [],
   "source": [
    "print(df_posts.sort_values('edge_media_preview_like.count', ascending=False)['edge_media_preview_like.count'])\n",
    "# df_posts.iloc[11200]"
   ]
  },
  {
   "cell_type": "code",
   "execution_count": null,
   "id": "abe362b4",
   "metadata": {
    "execution": {
     "iopub.execute_input": "2022-12-01T02:51:46.723946Z",
     "iopub.status.busy": "2022-12-01T02:51:46.723586Z",
     "iopub.status.idle": "2022-12-01T02:51:52.020499Z",
     "shell.execute_reply": "2022-12-01T02:51:52.019481Z",
     "shell.execute_reply.started": "2022-12-01T02:51:46.723916Z"
    },
    "papermill": {
     "duration": null,
     "end_time": null,
     "exception": null,
     "start_time": null,
     "status": "pending"
    },
    "tags": []
   },
   "outputs": [],
   "source": [
    "# compression_opts = dict(method='zip',\n",
    "#                         archive_name='out.csv')\n",
    "# os.remove(\"/kaggle/working/posts.zip\")\n",
    "# df_posts.to_csv('posts.zip', index=False,\n",
    "#           compression=compression_opts)\n",
    "# df_posts_english.to_csv('posts_eng.zip', index=False,\n",
    "#           compression=compression_opts)"
   ]
  },
  {
   "cell_type": "code",
   "execution_count": null,
   "id": "0da87f5d",
   "metadata": {
    "execution": {
     "iopub.execute_input": "2022-12-01T02:51:57.843172Z",
     "iopub.status.busy": "2022-12-01T02:51:57.842795Z",
     "iopub.status.idle": "2022-12-01T02:51:58.871168Z",
     "shell.execute_reply": "2022-12-01T02:51:58.869852Z",
     "shell.execute_reply.started": "2022-12-01T02:51:57.843140Z"
    },
    "papermill": {
     "duration": null,
     "end_time": null,
     "exception": null,
     "start_time": null,
     "status": "pending"
    },
    "tags": []
   },
   "outputs": [],
   "source": [
    "# !cd /kaggle/working\n",
    "\n",
    "# import zipfile\n",
    "# import os\n",
    "# from IPython.display import FileLink\n",
    "\n",
    "# def zip_dir(directory = os.curdir, file_name = 'directory.zip'):\n",
    "#     os.chdir(directory)\n",
    "#     zip_ref = zipfile.ZipFile(file_name, mode='w')\n",
    "#     for folder, _, files in os.walk(directory):\n",
    "#         for file in files:\n",
    "#             if file_name in file:\n",
    "#                 pass\n",
    "#             else:\n",
    "#                 zip_ref.write(os.path.join(folder, file))\n",
    "\n",
    "#     return FileLink(file_name)\n",
    "\n",
    "# zip_dir('/kaggle/working','posts.zip')"
   ]
  },
  {
   "cell_type": "code",
   "execution_count": null,
   "id": "1321c082",
   "metadata": {
    "execution": {
     "iopub.execute_input": "2022-12-01T03:13:15.520808Z",
     "iopub.status.busy": "2022-12-01T03:13:15.520430Z",
     "iopub.status.idle": "2022-12-01T03:13:16.656269Z",
     "shell.execute_reply": "2022-12-01T03:13:16.655018Z",
     "shell.execute_reply.started": "2022-12-01T03:13:15.520778Z"
    },
    "papermill": {
     "duration": null,
     "end_time": null,
     "exception": null,
     "start_time": null,
     "status": "pending"
    },
    "tags": []
   },
   "outputs": [],
   "source": [
    "df_posts.to_csv('posts_sample.csv',index=False)"
   ]
  },
  {
   "cell_type": "code",
   "execution_count": null,
   "id": "14cb0231",
   "metadata": {
    "execution": {
     "iopub.execute_input": "2022-12-01T03:13:54.974890Z",
     "iopub.status.busy": "2022-12-01T03:13:54.974491Z",
     "iopub.status.idle": "2022-12-01T03:13:54.980802Z",
     "shell.execute_reply": "2022-12-01T03:13:54.979115Z",
     "shell.execute_reply.started": "2022-12-01T03:13:54.974858Z"
    },
    "papermill": {
     "duration": null,
     "end_time": null,
     "exception": null,
     "start_time": null,
     "status": "pending"
    },
    "tags": []
   },
   "outputs": [],
   "source": [
    "    import os\n",
    "    os.chdir(r'/kaggle/working')\n",
    "    "
   ]
  },
  {
   "cell_type": "code",
   "execution_count": null,
   "id": "51fbc29c",
   "metadata": {
    "execution": {
     "iopub.execute_input": "2022-12-01T03:13:58.017133Z",
     "iopub.status.busy": "2022-12-01T03:13:58.016713Z",
     "iopub.status.idle": "2022-12-01T03:13:58.030263Z",
     "shell.execute_reply": "2022-12-01T03:13:58.029417Z",
     "shell.execute_reply.started": "2022-12-01T03:13:58.017088Z"
    },
    "papermill": {
     "duration": null,
     "end_time": null,
     "exception": null,
     "start_time": null,
     "status": "pending"
    },
    "tags": []
   },
   "outputs": [],
   "source": [
    "    from IPython.display import FileLink\n",
    "    FileLink(r'posts_sample.csv')"
   ]
  },
  {
   "cell_type": "code",
   "execution_count": null,
   "id": "d14dce92",
   "metadata": {
    "papermill": {
     "duration": null,
     "end_time": null,
     "exception": null,
     "start_time": null,
     "status": "pending"
    },
    "tags": []
   },
   "outputs": [],
   "source": []
  }
 ],
 "metadata": {
  "kernelspec": {
   "display_name": "Python 3",
   "language": "python",
   "name": "python3"
  },
  "language_info": {
   "codemirror_mode": {
    "name": "ipython",
    "version": 3
   },
   "file_extension": ".py",
   "mimetype": "text/x-python",
   "name": "python",
   "nbconvert_exporter": "python",
   "pygments_lexer": "ipython3",
   "version": "3.7.12"
  },
  "papermill": {
   "default_parameters": {},
   "duration": 19.622095,
   "end_time": "2022-12-01T03:23:26.512433",
   "environment_variables": {},
   "exception": true,
   "input_path": "__notebook__.ipynb",
   "output_path": "__notebook__.ipynb",
   "parameters": {},
   "start_time": "2022-12-01T03:23:06.890338",
   "version": "2.3.4"
  }
 },
 "nbformat": 4,
 "nbformat_minor": 5
}
